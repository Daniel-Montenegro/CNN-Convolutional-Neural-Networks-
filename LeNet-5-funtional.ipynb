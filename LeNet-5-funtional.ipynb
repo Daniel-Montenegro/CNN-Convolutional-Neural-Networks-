{
 "cells": [
  {
   "cell_type": "code",
   "execution_count": 1,
   "metadata": {},
   "outputs": [
    {
     "name": "stderr",
     "output_type": "stream",
     "text": [
      "Using TensorFlow backend.\n"
     ]
    }
   ],
   "source": [
    "# Librerias\n",
    "import os\n",
    "import numpy as np\n",
    "from keras.models import Model\n",
    "from keras.layers import Dense, Flatten, Conv2D, MaxPooling2D, Input, Dropout\n",
    "import matplotlib.pyplot as plt\n",
    "from keras.backend import backend\n",
    "from keras import metrics\n",
    "\n",
    "\n",
    "%matplotlib inline"
   ]
  },
  {
   "cell_type": "code",
   "execution_count": null,
   "metadata": {
    "collapsed": true
   },
   "outputs": [],
   "source": []
  },
  {
   "cell_type": "code",
   "execution_count": 2,
   "metadata": {},
   "outputs": [
    {
     "data": {
      "text/plain": [
       "\"\\n\\n#dimension imagenes de entrada\\nimg_filas, img_columnas = 28, 28\\n\\nif backend == 'channels_first':\\n    x_train = x_train.reshape(x_train.shape[0], 1, img_filas, img_columnas)\\n    x_test = x_test.reshape(x_test.shape[0], 1, img_filas, img_columnas)\\n    input_shape = (1, img_filas, img_columnas)\\nelse:\\n    x_train = x_train.reshape(x_train.shape[0], img_filas, img_columnas, 1)\\n    x_test = x_test.reshape(x_test.shape[0], img_filas, img_columnas, 1)\\n    input_shape = (img_filas, img_columnas, 1)\\n\\n\""
      ]
     },
     "execution_count": 2,
     "metadata": {},
     "output_type": "execute_result"
    }
   ],
   "source": [
    "#asigancion del tipo de data format dependiendo si se \n",
    "#usa TesorFlow o mxnet\n",
    "\n",
    "if backend == 'mxnet':\n",
    "    data_format = 'channels_first' #Para MXNET\n",
    "    input_shape = (1,28,28)\n",
    "else:\n",
    "    data_format = 'channels_last' #Para TensorFlow\n",
    "    input_shape = (28,28,1)\n",
    "\"\"\"\n",
    "\n",
    "#dimension imagenes de entrada\n",
    "img_filas, img_columnas = 28, 28\n",
    "\n",
    "if backend == 'channels_first':\n",
    "    x_train = x_train.reshape(x_train.shape[0], 1, img_filas, img_columnas)\n",
    "    x_test = x_test.reshape(x_test.shape[0], 1, img_filas, img_columnas)\n",
    "    input_shape = (1, img_filas, img_columnas)\n",
    "else:\n",
    "    x_train = x_train.reshape(x_train.shape[0], img_filas, img_columnas, 1)\n",
    "    x_test = x_test.reshape(x_test.shape[0], img_filas, img_columnas, 1)\n",
    "    input_shape = (img_filas, img_columnas, 1)\n",
    "\n",
    "\"\"\""
   ]
  },
  {
   "cell_type": "code",
   "execution_count": 3,
   "metadata": {},
   "outputs": [],
   "source": [
    "# se contruye la red (LeNet-5)\n",
    "\n",
    "def LeNet_funtional():\n",
    "    layers = {} # crea el diccionario\n",
    "    li = Input(shape=input_shape, name = 'Input') ## ?\n",
    "    layers['input'] = li\n",
    "    \n",
    "    #Layer_0 \n",
    "    #C1 feature map-6 28x28\n",
    "    lo = Conv2D(6, \n",
    "                kernel_size=(5,5),\n",
    "                strides = (1,1),\n",
    "                padding='same',\n",
    "                data_format= data_format,\n",
    "                activation='relu',\n",
    "                name = 'l0Conv2D')(li) ##por que y para que ponerle nombre ?\n",
    "    layers['l0conv2d'] = lo\n",
    "    \n",
    "    #Layer_1\n",
    "    #S2 feature_map-6\n",
    "    lo = MaxPooling2D(pool_size = (2,2),\n",
    "                      strides=(1,1),\n",
    "                      padding='same',\n",
    "                      data_format=data_format, \n",
    "                      name = 'l1Maxpool2D')(lo)\n",
    "    layers['l1maxpool2D'] = lo\n",
    "    \n",
    "    #layer_2\n",
    "    #C3 feature map-16\n",
    "    lo = Conv2D(16,\n",
    "               kernel_size = (5,5),\n",
    "               strides = (1,1),\n",
    "               padding = 'same',\n",
    "               data_format = data_format,\n",
    "               activation = 'relu',\n",
    "               name = 'l2Con2D')(lo)\n",
    "    layers['l2conv2D'] = lo\n",
    "    \n",
    "    #layer_3\n",
    "    #S4 feature map-16 \n",
    "    lo = MaxPooling2D(pool_size = (2,2), \n",
    "                      strides = (1,1), \n",
    "                      padding='same',\n",
    "                      data_format = data_format,\n",
    "                      name = 'l3Maxpool2D')(lo)\n",
    "    layers['l3maxpool2D'] = lo\n",
    "    \n",
    "    \n",
    "    lo = Dropout(0.25, name = 'dropout')(lo)\n",
    "    layers['dropout'] = lo\n",
    "    #layer_4\n",
    "    lo = Flatten(name = 'l4Flatten')(lo)\n",
    "    layers['l4flatten'] = lo\n",
    "    \n",
    "    #layer_5\n",
    "    #Fully-connect (Capa densa)\n",
    "    lo = Dense(units=120, \n",
    "               activation= 'relu', \n",
    "               name = 'l5Dense')(lo)\n",
    "    layers['l5dense'] = lo\n",
    "    \n",
    "    #layer_6\n",
    "    #Fully-connect (Capa densa)\n",
    "    lo = Dense(units=84, \n",
    "               activation= 'relu', \n",
    "               name = 'l6Dense')(lo)\n",
    "    layers['l6dense'] = lo\n",
    "    \n",
    "    #layer_7\n",
    "    #Fully-connect (Capa densa)\n",
    "    l_output = Dense(units=10, \n",
    "               activation= 'softmax', \n",
    "               name = 'l7Dense')(lo)\n",
    "    layers['l7dense'] = lo\n",
    "    \n",
    "    \n",
    "    \n",
    "    model = Model(inputs = li, outputs = l_output)\n",
    "    \n",
    "    return (model, layers)\n",
    "    \n",
    "    \n",
    "    "
   ]
  },
  {
   "cell_type": "code",
   "execution_count": 4,
   "metadata": {},
   "outputs": [],
   "source": [
    "model, layers = LeNet_funtional()"
   ]
  },
  {
   "cell_type": "code",
   "execution_count": 5,
   "metadata": {},
   "outputs": [
    {
     "name": "stdout",
     "output_type": "stream",
     "text": [
      "_________________________________________________________________\n",
      "Layer (type)                 Output Shape              Param #   \n",
      "=================================================================\n",
      "Input (InputLayer)           (None, 28, 28, 1)         0         \n",
      "_________________________________________________________________\n",
      "l0Conv2D (Conv2D)            (None, 28, 28, 6)         156       \n",
      "_________________________________________________________________\n",
      "l1Maxpool2D (MaxPooling2D)   (None, 28, 28, 6)         0         \n",
      "_________________________________________________________________\n",
      "l2Con2D (Conv2D)             (None, 28, 28, 16)        2416      \n",
      "_________________________________________________________________\n",
      "l3Maxpool2D (MaxPooling2D)   (None, 28, 28, 16)        0         \n",
      "_________________________________________________________________\n",
      "dropout (Dropout)            (None, 28, 28, 16)        0         \n",
      "_________________________________________________________________\n",
      "l4Flatten (Flatten)          (None, 12544)             0         \n",
      "_________________________________________________________________\n",
      "l5Dense (Dense)              (None, 120)               1505400   \n",
      "_________________________________________________________________\n",
      "l6Dense (Dense)              (None, 84)                10164     \n",
      "_________________________________________________________________\n",
      "l7Dense (Dense)              (None, 10)                850       \n",
      "=================================================================\n",
      "Total params: 1,518,986\n",
      "Trainable params: 1,518,986\n",
      "Non-trainable params: 0\n",
      "_________________________________________________________________\n"
     ]
    }
   ],
   "source": [
    "# Resumen de la red nueronal \n",
    "model.summary()"
   ]
  },
  {
   "cell_type": "markdown",
   "metadata": {},
   "source": [
    "# Dudas\n",
    "\n",
    "¿ Por qué ... ?\n",
    "\n",
    "- padding = 'same'\n",
    "- multiplocar cada capo por (lo)\n",
    "- la sintaxis de Model\n"
   ]
  },
  {
   "cell_type": "code",
   "execution_count": 6,
   "metadata": {
    "collapsed": true
   },
   "outputs": [],
   "source": [
    "#importar el data set y data train\n",
    "from keras.datasets import mnist\n",
    "\n",
    "(x_train, y_train), (x_test, y_test) = mnist.load_data()"
   ]
  },
  {
   "cell_type": "code",
   "execution_count": 7,
   "metadata": {},
   "outputs": [],
   "source": [
    "#dimension imagenes de entrada\n",
    "img_filas, img_columnas = 28, 28\n",
    "\n",
    "if backend == 'channels_first':\n",
    "    x_train = x_train.reshape(x_train.shape[0], 1, img_filas, img_columnas)\n",
    "    x_test = x_test.reshape(x_test.shape[0], 1, img_filas, img_columnas)\n",
    "    #input_shape = (1, img_filas, img_columnas)\n",
    "else:\n",
    "    x_train = x_train.reshape(x_train.shape[0], img_filas, img_columnas, 1)\n",
    "    x_test = x_test.reshape(x_test.shape[0], img_filas, img_columnas, 1)\n",
    "    #input_shape = (img_filas, img_columnas, 1)\n"
   ]
  },
  {
   "cell_type": "code",
   "execution_count": 8,
   "metadata": {},
   "outputs": [
    {
     "data": {
      "text/plain": [
       "(60000,)"
      ]
     },
     "execution_count": 8,
     "metadata": {},
     "output_type": "execute_result"
    }
   ],
   "source": [
    "y_train.shape\n"
   ]
  },
  {
   "cell_type": "code",
   "execution_count": 9,
   "metadata": {
    "collapsed": true
   },
   "outputs": [],
   "source": [
    "from keras.utils.np_utils import to_categorical\n",
    "\n",
    "#Convierte el y_train y y_test en numeros binarios para la comparacion\n",
    "\n",
    "#y_train = to_categorical(y_train, num_classes = None)\n",
    "#y_test = to_categorical(y_test, num_classes = None)\n",
    "\n",
    "y_train = to_categorical(y_train, num_classes = 10)\n",
    "y_test = to_categorical(y_test, num_classes = 10)"
   ]
  },
  {
   "cell_type": "code",
   "execution_count": 10,
   "metadata": {},
   "outputs": [
    {
     "data": {
      "text/plain": [
       "(60000, 28, 28, 1)"
      ]
     },
     "execution_count": 10,
     "metadata": {},
     "output_type": "execute_result"
    }
   ],
   "source": [
    "x_train.shape"
   ]
  },
  {
   "cell_type": "code",
   "execution_count": 11,
   "metadata": {},
   "outputs": [],
   "source": [
    "#compilar las neuronas \n",
    "from keras.losses import categorical_crossentropy\n",
    "\n",
    "\n",
    "#model.compile(optimizer= 'adadelta', loss = 'categorical_crossentropy', metrics=['accuracy','mae'])\n",
    "model.compile(optimizer= 'adadelta', loss = 'binary_crossentropy', metrics=['accuracy','mae'])"
   ]
  },
  {
   "cell_type": "code",
   "execution_count": 12,
   "metadata": {},
   "outputs": [
    {
     "name": "stdout",
     "output_type": "stream",
     "text": [
      "Epoch 1/2\n",
      "60000/60000 [==============================] - 52s 873us/step - loss: 2.8540 - acc: 0.8203 - mean_absolute_error: 0.1797\n",
      "Epoch 2/2\n",
      "60000/60000 [==============================] - 55s 914us/step - loss: 2.8898 - acc: 0.8197 - mean_absolute_error: 0.1803\n",
      "tiempo de computo 107.750765 [s]\n"
     ]
    }
   ],
   "source": [
    "#entrenamiento \n",
    "\n",
    "import time \n",
    "\n",
    "time_star = time.time()\n",
    "\n",
    "model.fit(x_train, y_train, batch_size = 1000 , epochs=2, shuffle=True)\n",
    "\n",
    "time_end = time.time()\n",
    "\n",
    "print(\"tiempo de computo %f [s]\"%(time_end-time_star))\n"
   ]
  },
  {
   "cell_type": "code",
   "execution_count": 13,
   "metadata": {},
   "outputs": [
    {
     "name": "stdout",
     "output_type": "stream",
     "text": [
      "10000/10000 [==============================] - 4s 386us/step\n"
     ]
    }
   ],
   "source": [
    "score = model.evaluate(x_test, y_test, batch_size=1000)"
   ]
  },
  {
   "cell_type": "code",
   "execution_count": 14,
   "metadata": {},
   "outputs": [
    {
     "name": "stdout",
     "output_type": "stream",
     "text": [
      "[2.8989134311676024, 0.81916174292564392, 0.18084040135145188]\n"
     ]
    }
   ],
   "source": [
    "print(score)"
   ]
  }
 ],
 "metadata": {
  "kernelspec": {
   "display_name": "Python 3",
   "language": "python",
   "name": "python3"
  },
  "language_info": {
   "codemirror_mode": {
    "name": "ipython",
    "version": 3
   },
   "file_extension": ".py",
   "mimetype": "text/x-python",
   "name": "python",
   "nbconvert_exporter": "python",
   "pygments_lexer": "ipython3",
   "version": "3.6.1"
  }
 },
 "nbformat": 4,
 "nbformat_minor": 2
}
