{
 "cells": [
  {
   "cell_type": "markdown",
   "metadata": {},
   "source": [
    "En este codigo se pretende realizar una red neuronal que pueda clasificar digitos escritos a mano. Para ello se usa la arquitectura de $\\bf{LeNet-5}$.\n",
    "\n",
    "En este código se estudia como el ruido puede afectar el entrenamiento de la red."
   ]
  },
  {
   "cell_type": "code",
   "execution_count": 2,
   "metadata": {},
   "outputs": [
    {
     "name": "stderr",
     "output_type": "stream",
     "text": [
      "Using MXNet backend\n"
     ]
    }
   ],
   "source": [
    "#importar librerias \n",
    "\n",
    "import numpy as np\n",
    "import matplotlib.pyplot as plt\n",
    "from keras.models import Sequential\n",
    "from keras.layers import Dense, Activation, Flatten, Dropout\n",
    "from keras.layers import Convolution2D as conv2D\n",
    "from keras.layers import AveragePooling2D, MaxPooling2D \n",
    "\n",
    "%matplotlib inline"
   ]
  },
  {
   "cell_type": "code",
   "execution_count": 3,
   "metadata": {},
   "outputs": [],
   "source": [
    "#diseno de la red\n",
    "\n",
    "model = Sequential()\n",
    "#Layer 1\n",
    "model.add(conv2D(filters = 6, \n",
    "                 kernel_size=(5,5),\n",
    "                 data_format ='channels_first',\n",
    "                 activation ='relu', \n",
    "                 input_shape=(1,28,28)))\n",
    "\n",
    "#Layer 2\n",
    "\"\"\"\n",
    "model.add(AveragePooling2D(pool_size=(14,14),\n",
    "                           data_format='channels_first'))\n",
    "\"\"\"                    \n",
    "model.add(MaxPooling2D(pool_size=(2,2), \n",
    "                       data_format='channels_first'))\n",
    "\n",
    "\n",
    "#Layer 3\n",
    "model.add(conv2D(filters = 16,\n",
    "                kernel_size = (5,5),\n",
    "                data_format = 'channels_first',\n",
    "                activation = 'relu',\n",
    "                input_shape = (1,14,14)))\n",
    "\n",
    "#Layer 4\n",
    "model.add(MaxPooling2D(pool_size=(2,2), \n",
    "                       data_format='channels_first'))\n",
    "\n",
    "\n"
   ]
  },
  {
   "cell_type": "code",
   "execution_count": 4,
   "metadata": {},
   "outputs": [],
   "source": [
    "model.add(Dropout(0.25))\n",
    "model.add(Flatten(data_format = 'channels_first'))"
   ]
  },
  {
   "cell_type": "code",
   "execution_count": 5,
   "metadata": {
    "scrolled": false
   },
   "outputs": [],
   "source": [
    "#Layer 5\n",
    "\"\"\"\n",
    "model.add(conv2D(filters = 120,\n",
    "                kernel_size = (1,1),\n",
    "                data_format = 'channels_first',\n",
    "                activation = 'relu'))\n",
    "\"\"\"\n",
    "model.add(Dense(units = 120,\n",
    "                activation = 'relu'))\n",
    "\n",
    "#Layer 6\n",
    "model.add(Dense(units = 84,\n",
    "               activation = 'relu'))\n",
    "\n",
    "#Layer 7\n",
    "model.add(Dense(units = 10,\n",
    "               activation = 'softmax'))"
   ]
  },
  {
   "cell_type": "code",
   "execution_count": 6,
   "metadata": {},
   "outputs": [],
   "source": [
    "from keras.datasets import mnist"
   ]
  },
  {
   "cell_type": "code",
   "execution_count": 7,
   "metadata": {},
   "outputs": [],
   "source": [
    "# los datos para el entrenamiento y el test\n",
    "\n",
    "(x_train, y_train), (x_test, y_test) = mnist.load_data()\n"
   ]
  },
  {
   "cell_type": "code",
   "execution_count": null,
   "metadata": {},
   "outputs": [],
   "source": []
  },
  {
   "cell_type": "code",
   "execution_count": 8,
   "metadata": {},
   "outputs": [],
   "source": [
    "from keras import backend as K\n",
    "\n",
    "# re-dimensionar mnist\n",
    "\n",
    "#dimension imagenes de entrada\n",
    "img_filas, img_columnas = 28, 28\n",
    "\n",
    "if K.image_data_format() == 'channels_first':\n",
    "    x_train = x_train.reshape(x_train.shape[0], 1, img_filas, img_columnas)\n",
    "    x_test = x_test.reshape(x_test.shape[0], 1, img_filas, img_columnas)\n",
    "    input_shape = (1, img_filas, img_columnas)\n",
    "else:\n",
    "    x_train = x_train.reshape(x_train.shape[0], img_filas, img_columnas, 1)\n",
    "    x_test = x_test.reshape(x_test.shape[0], img_filas, img_columnas, 1)\n",
    "    input_shape = (img_filas, img_columnas, 1)"
   ]
  },
  {
   "cell_type": "code",
   "execution_count": null,
   "metadata": {},
   "outputs": [],
   "source": [
    "\n",
    "    "
   ]
  },
  {
   "cell_type": "code",
   "execution_count": 9,
   "metadata": {},
   "outputs": [],
   "source": [
    "from keras.utils.np_utils import to_categorical\n",
    "\n",
    "#Convierte el y_train y y_test en numeros binarios para la comparacion\n",
    "\n",
    "y_train = to_categorical(y_train, num_classes = 10)\n",
    "y_test = to_categorical(y_test, num_classes = 10)"
   ]
  },
  {
   "cell_type": "code",
   "execution_count": 10,
   "metadata": {},
   "outputs": [],
   "source": [
    "#Introducir ruido\n",
    "\n",
    "noise_factor = 0.8\n",
    "x_train_noisy = x_train + noise_factor * np.random.normal(loc=0.0, scale=1.0, size=x_train.shape) \n",
    "x_test_noisy = x_test + noise_factor * np.random.normal(loc=0.0, scale=1.0, size=x_test.shape) \n",
    "y_train_noisy = y_train + noise_factor * np.random.normal(loc=0.0, scale=1.0, size=y_train.shape) \n",
    "y_test_noisy = y_test + noise_factor * np.random.normal(loc=0.0, scale=1.0, size=y_test.shape) \n",
    "\n",
    "\n",
    "\n",
    "x_train_noisy = np.clip(x_train_noisy, 0., 1.)\n",
    "x_test_noisy = np.clip(x_test_noisy, 0., 1.)\n",
    "y_train_noisy = np.clip(y_train_noisy, 0., 1.)\n",
    "y_test_noisy = np.clip(y_test_noisy, 0., 1.)\n",
    "\n"
   ]
  },
  {
   "cell_type": "code",
   "execution_count": 11,
   "metadata": {},
   "outputs": [],
   "source": [
    "#np.random.normal(size = x_train_noisy.shape)"
   ]
  },
  {
   "cell_type": "code",
   "execution_count": 12,
   "metadata": {},
   "outputs": [
    {
     "data": {
      "image/png": "[encoded data removed]",
      "text/plain": [
       "<Figure size 1440x144 with 12 Axes>"
      ]
     },
     "metadata": {
      "needs_background": "light"
     },
     "output_type": "display_data"
    }
   ],
   "source": [
    "#visualizacion de los digitos\n",
    "\n",
    "n = 12\n",
    "plt.figure(figsize=(20, 2))\n",
    "for i in range(1,n+1):\n",
    "    ax = plt.subplot(1, n, i)\n",
    "    plt.imshow(x_test_noisy[i].reshape(28, 28))\n",
    "    plt.gray()\n",
    "    ax.get_xaxis().set_visible(False)\n",
    "    ax.get_yaxis().set_visible(False)\n",
    "#plt.show()"
   ]
  },
  {
   "cell_type": "code",
   "execution_count": null,
   "metadata": {},
   "outputs": [],
   "source": []
  },
  {
   "cell_type": "code",
   "execution_count": 13,
   "metadata": {},
   "outputs": [
    {
     "data": {
      "text/plain": [
       "'\\nk=1.4\\nx_test_noisy = x_test + k*np.random.random( size = x_test.shape)\\nx_train_noisy = x_train + k*np.random.random( size = x_train.shape)\\ny_test_noisy = y_test + k*np.random.random( size = y_test.shape)\\ny_train_noisy = y_train + k*np.random.random( size = y_train.shape)\\n'"
      ]
     },
     "execution_count": 13,
     "metadata": {},
     "output_type": "execute_result"
    }
   ],
   "source": [
    "# Ruido agregado a los data test y data train\n",
    "\"\"\"\n",
    "k=1.4\n",
    "x_test_noisy = x_test + k*np.random.random( size = x_test.shape)\n",
    "x_train_noisy = x_train + k*np.random.random( size = x_train.shape)\n",
    "y_test_noisy = y_test + k*np.random.random( size = y_test.shape)\n",
    "y_train_noisy = y_train + k*np.random.random( size = y_train.shape)\n",
    "\"\"\"\n"
   ]
  },
  {
   "cell_type": "code",
   "execution_count": null,
   "metadata": {},
   "outputs": [],
   "source": []
  },
  {
   "cell_type": "code",
   "execution_count": 14,
   "metadata": {},
   "outputs": [],
   "source": [
    "#compilar red neuronal \n",
    "from keras.losses import categorical_crossentropy\n",
    "\n",
    "model.compile(optimizer= 'Adam',loss = 'poisson', metrics=['accuracy','mae'])"
   ]
  },
  {
   "cell_type": "code",
   "execution_count": 15,
   "metadata": {
    "scrolled": false
   },
   "outputs": [
    {
     "name": "stdout",
     "output_type": "stream",
     "text": [
      "Epoch 1/10\n",
      " 1000/60000 [..............................] - ETA: 1:30 - loss: 0.8692 - acc: 0.1280 - mean_absolute_error: 0.3233"
     ]
    },
    {
     "name": "stderr",
     "output_type": "stream",
     "text": [
      "/usr/local/lib/python3.5/dist-packages/mxnet/module/bucketing_module.py:408: UserWarning: Optimizer created manually outside Module but rescale_grad is not normalized to 1.0/batch_size/num_workers (1.0 vs. 0.001). Is this intended?\n",
      "  force_init=force_init)\n"
     ]
    },
    {
     "name": "stdout",
     "output_type": "stream",
     "text": [
      "60000/60000 [==============================] - 2s 39us/step - loss: 0.8439 - acc: 0.1776 - mean_absolute_error: 0.3198\n",
      "Epoch 2/10\n",
      "60000/60000 [==============================] - 1s 13us/step - loss: 0.8359 - acc: 0.2982 - mean_absolute_error: 0.3165\n",
      "Epoch 3/10\n",
      "60000/60000 [==============================] - 1s 13us/step - loss: 0.8329 - acc: 0.3203 - mean_absolute_error: 0.3150\n",
      "Epoch 4/10\n",
      "60000/60000 [==============================] - 1s 13us/step - loss: 0.8312 - acc: 0.3304 - mean_absolute_error: 0.3141\n",
      "Epoch 5/10\n",
      "60000/60000 [==============================] - 1s 13us/step - loss: 0.8302 - acc: 0.3357 - mean_absolute_error: 0.3136\n",
      "Epoch 6/10\n",
      "60000/60000 [==============================] - 1s 13us/step - loss: 0.8296 - acc: 0.3403 - mean_absolute_error: 0.3133\n",
      "Epoch 7/10\n",
      "60000/60000 [==============================] - 1s 13us/step - loss: 0.8293 - acc: 0.3424 - mean_absolute_error: 0.3131\n",
      "Epoch 8/10\n",
      "60000/60000 [==============================] - 1s 13us/step - loss: 0.8289 - acc: 0.3443 - mean_absolute_error: 0.3130\n",
      "Epoch 9/10\n",
      "60000/60000 [==============================] - 1s 13us/step - loss: 0.8285 - acc: 0.3455 - mean_absolute_error: 0.3128\n",
      "Epoch 10/10\n",
      "60000/60000 [==============================] - 1s 13us/step - loss: 0.8282 - acc: 0.3471 - mean_absolute_error: 0.3126\n",
      "time training 9.131717 [s]\n"
     ]
    }
   ],
   "source": [
    "# entrenamiento\n",
    "\n",
    "import time \n",
    "time_star  = time.time()\n",
    "\n",
    "\n",
    "#con ruido\n",
    "model.fit(x_train_noisy,\n",
    "          y_train_noisy,\n",
    "          batch_size = 1000,\n",
    "          epochs = 10,\n",
    "          shuffle= True)\n",
    "\n",
    "\n",
    "time_end = time.time()\n",
    "time = (time_end-time_star)\n",
    "\n",
    "print('time training %f [s]'%time)\n",
    "#print(time)"
   ]
  },
  {
   "cell_type": "code",
   "execution_count": 16,
   "metadata": {},
   "outputs": [],
   "source": [
    "score = model.evaluate(x_test_noisy, y_test_noisy, verbose=0)"
   ]
  },
  {
   "cell_type": "code",
   "execution_count": 22,
   "metadata": {},
   "outputs": [
    {
     "name": "stdout",
     "output_type": "stream",
     "text": [
      "       loss       accuracy         mae\n",
      "[0.825141602230072, 0.3621, 0.3117752697944641]\n"
     ]
    }
   ],
   "source": [
    "print(\"       loss       accuracy         mae\")\n",
    "print(score)"
   ]
  },
  {
   "cell_type": "code",
   "execution_count": 18,
   "metadata": {},
   "outputs": [
    {
     "name": "stdout",
     "output_type": "stream",
     "text": [
      "_________________________________________________________________\n",
      "Layer (type)                 Output Shape              Param #   \n",
      "=================================================================\n",
      "conv2d_1 (Conv2D)            (None, 6, 24, 24)         156       \n",
      "_________________________________________________________________\n",
      "max_pooling2d_1 (MaxPooling2 (None, 6, 12, 12)         0         \n",
      "_________________________________________________________________\n",
      "conv2d_2 (Conv2D)            (None, 16, 8, 8)          2416      \n",
      "_________________________________________________________________\n",
      "max_pooling2d_2 (MaxPooling2 (None, 16, 4, 4)          0         \n",
      "_________________________________________________________________\n",
      "dropout_1 (Dropout)          (None, 16, 4, 4)          0         \n",
      "_________________________________________________________________\n",
      "flatten_1 (Flatten)          (None, 256)               0         \n",
      "_________________________________________________________________\n",
      "dense_1 (Dense)              (None, 120)               30840     \n",
      "_________________________________________________________________\n",
      "dense_2 (Dense)              (None, 84)                10164     \n",
      "_________________________________________________________________\n",
      "dense_3 (Dense)              (None, 10)                850       \n",
      "=================================================================\n",
      "Total params: 44,426\n",
      "Trainable params: 44,426\n",
      "Non-trainable params: 0\n",
      "_________________________________________________________________\n"
     ]
    }
   ],
   "source": [
    "model.summary()"
   ]
  },
  {
   "cell_type": "markdown",
   "metadata": {},
   "source": [
    "### Observaciones\n",
    "\n",
    "Como era de suponer el $accuracy$ varia dependiendo del factor de ruido que se implemente.\n",
    "\n",
    "Los cambios pueden variar drasticamente del valor de ruido.\n",
    "\n",
    "Si $noise\\_factor = 0.9$ entonces $\\to acc: 0.22$ \n",
    "\n",
    "Si $noise\\_factor = 0.5$ entonces $\\to acc: 0.62$ \n",
    "\n",
    "Si $noise\\_factor = 0.1$ entonces $\\to acc: 0.97$ \n"
   ]
  },
  {
   "cell_type": "code",
   "execution_count": null,
   "metadata": {},
   "outputs": [],
   "source": []
  }
 ],
 "metadata": {
  "kernelspec": {
   "display_name": "Python 3",
   "language": "python",
   "name": "python3"
  },
  "language_info": {
   "codemirror_mode": {
    "name": "ipython",
    "version": 3
   },
   "file_extension": ".py",
   "mimetype": "text/x-python",
   "name": "python",
   "nbconvert_exporter": "python",
   "pygments_lexer": "ipython3",
   "version": "3.5.3"
  }
 },
 "nbformat": 4,
 "nbformat_minor": 2
}
