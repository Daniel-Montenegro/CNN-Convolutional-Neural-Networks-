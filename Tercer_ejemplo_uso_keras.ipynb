{
 "cells": [
  {
   "cell_type": "markdown",
   "metadata": {},
   "source": [
    "## En este codigo se realiza un ejercicio que busca diferenciar los objetos en una region."
   ]
  },
  {
   "cell_type": "code",
   "execution_count": 1,
   "metadata": {},
   "outputs": [
    {
     "name": "stderr",
     "output_type": "stream",
     "text": [
      "Using TensorFlow backend.\n"
     ]
    }
   ],
   "source": [
    "#Librerias \n",
    "import numpy as np\n",
    "import matplotlib.pyplot as plt\n",
    "from keras.models import Sequential\n",
    "from keras.layers import Dense, Activation, BatchNormalization \n",
    "from keras import regularizers, utils\n",
    "from keras.losses import categorical_crossentropy\n",
    "\n",
    "from sklearn.metrics import accuracy_score\n",
    "\n",
    "%matplotlib notebook"
   ]
  },
  {
   "cell_type": "markdown",
   "metadata": {},
   "source": [
    "### Problema\n",
    "\n",
    "diferenciar el conjunto de datos que están descritos por una funcion Gaussiana.\n",
    "\n",
    "\n"
   ]
  },
  {
   "cell_type": "code",
   "execution_count": 2,
   "metadata": {
    "collapsed": true
   },
   "outputs": [],
   "source": [
    "# creacion del data set\n",
    "\n",
    "\"\"\"\n",
    "El problema consta de tener un conjunto de puntos que estan acotados por una funcion Gaussiana en 2D\n",
    "\"\"\"\n",
    "x_exes = np.linspace(-4,4,10000)\n",
    "y_exes = np.linspace(-4,4,10000)\n",
    "\n",
    "\n",
    "\n",
    "sigma = 0.1\n",
    "Gaussian = []\n",
    "X = []\n",
    "Y = []\n",
    "Z = []\n",
    "Gaussian_random = []\n",
    "plano = []\n",
    "\n",
    "for i in range(len(x_exes)):\n",
    "    \n",
    "    x = np.random.randint(-4,4)*np.random.random()\n",
    "    X.append(x)\n",
    "    y = np.random.randint(-4,4)*np.random.random()\n",
    "    Y.append(y)\n",
    "    Gaussian_random.append(np.exp(-(x**2+y**2)/2*sigma)/(2.*np.pi*sigma**2))\n",
    "    Gaussian.append(np.exp(-(x_exes[i]**2+y_exes[i]**2)/2*sigma)/(2.*np.pi*sigma**2))\n",
    "    Z.append(np.random.randint(0,Gaussian_random[i]))\n",
    "    \n",
    "\n",
    "    \n",
    "#plt.figure()    \n",
    "#plt.plot(x_exes,Gaussian, '.b')\n",
    "#plt.plot(X,Gaussian_random, '.r')\n",
    "#plt.plot(X,Z, '.r')"
   ]
  },
  {
   "cell_type": "code",
   "execution_count": 3,
   "metadata": {
    "collapsed": true,
    "scrolled": false
   },
   "outputs": [],
   "source": [
    "#Grafica en 3D\n",
    "#from mpl_toolkits.mplot3d import Axes3D\n",
    "\n",
    "#fig = plt.figure()\n",
    "#ax = fig.add_subplot(111, projection='3d')\n",
    "\n",
    "#ax.scatter(X,Y,Gaussian_random, c='r')\n",
    "#ax.scatter(x_exes,y_exes,Gaussian)\n",
    "\n",
    "\n",
    "#ax.view_init(elev=20., azim=45)\n",
    "\n",
    "\n"
   ]
  },
  {
   "cell_type": "code",
   "execution_count": 4,
   "metadata": {
    "collapsed": true
   },
   "outputs": [],
   "source": [
    "# Criterio de para evaluar los dos tipos de grupos.\n",
    "# Se toma un corte en z a z0.\n",
    "\n",
    "z0 = 14.0 \n",
    "\n",
    "#condiciones\n",
    "\n",
    "c = []\n",
    "V = []\n",
    "for i in range(len(X)):\n",
    "    if Gaussian_random[i]>z0:\n",
    "        c.append([1,0])\n",
    "        V.append([X[i],Y[i],Gaussian_random[i]])\n",
    "    else:\n",
    "        c.append([0,1])\n",
    "        V.append([X[i],Y[i],Gaussian_random[i]])\n",
    "        \n",
    "#print(c)"
   ]
  },
  {
   "cell_type": "code",
   "execution_count": 5,
   "metadata": {
    "collapsed": true
   },
   "outputs": [],
   "source": [
    "\n",
    "## crear la matriz X\n",
    "\n",
    "## X_vec = np.concatenate((X,Y,Gaussian_random))\n",
    "## X_vec = np.reshape(X_vec,(3,len(Y)))\n",
    "\n",
    "#print(X_vec[0][0])\n",
    "##print(X_vec[0])\n",
    "## Array de train y test\n",
    "from sklearn.model_selection import train_test_split\n",
    "\n",
    "X_train, X_test, Y_train, Y_test = train_test_split(V, c, test_size=0.2, train_size=0.8)\n",
    "\n",
    "\n",
    "X_train_1D = np.transpose(np.reshape(X_train, (3,len(X_train))))\n",
    "X_test_1D = np.transpose(np.reshape(X_test, (3,len(X_test))))\n",
    "\n",
    "Y_train_1D = np.transpose(np.reshape(Y_train, (2,len(Y_train))))\n",
    "Y_test_1D = np.transpose(np.reshape(Y_test, (2,len(Y_test))))\n",
    "#X_train_1D = np.reshape(X_train, axis=-1)"
   ]
  },
  {
   "cell_type": "code",
   "execution_count": 6,
   "metadata": {},
   "outputs": [
    {
     "data": {
      "text/plain": [
       "'\\n#Uso de la funcion shuffle para tomar los datos para \\n#entrenamiento y test\\n\\nV2 = []\\n\\ndef train_test_select(V, c, X_train, X_test, Y_train, Y_test):\\n    V2.append([V[:,0][i],V[:,1][i],V[:,2][i],c2[:,0][i],c2[:,1][i]])    \\n    V3 = np.reshape(V2,(len(V2),5))\\n    V4 = np.random.shuffle(V3)\\n    X_train = V3[:1000]\\n    X_test\\n    \\n            \\n#np.random.shuffle()\\n'"
      ]
     },
     "execution_count": 6,
     "metadata": {},
     "output_type": "execute_result"
    }
   ],
   "source": [
    "\"\"\"\n",
    "#Uso de la funcion shuffle para tomar los datos para \n",
    "#entrenamiento y test\n",
    "\n",
    "V2 = []\n",
    "\n",
    "def train_test_select(V, c, X_train, X_test, Y_train, Y_test):\n",
    "    V2.append([V[:,0][i],V[:,1][i],V[:,2][i],c2[:,0][i],c2[:,1][i]])    \n",
    "    V3 = np.reshape(V2,(len(V2),5))\n",
    "    V4 = np.random.shuffle(V3)\n",
    "    X_train = V3[:1000]\n",
    "    X_test\n",
    "    \n",
    "            \n",
    "#np.random.shuffle()\n",
    "\"\"\""
   ]
  },
  {
   "cell_type": "code",
   "execution_count": 7,
   "metadata": {},
   "outputs": [
    {
     "name": "stdout",
     "output_type": "stream",
     "text": [
      "None\n"
     ]
    }
   ],
   "source": [
    "V = np.reshape(V,(len(V),3))\n",
    "c2 = np.reshape(c,(len(c),2))\n",
    "\n",
    "#V2 = V[:,0]+V[:,1]+V[:,2]+c2[:,0]+c2[:,1]\n",
    "\n",
    "#V2 = np.zeros((len(V),5))\n",
    "V2 = []\n",
    "for i in range(len(V)):\n",
    "    V2.append([V[:,0][i],V[:,1][i],V[:,2][i],c2[:,0][i],c2[:,1][i]])\n",
    "    \n",
    "#V2 = np.concatenate((V[:,0],V[:,1],V[:,2],c2[:,0],c2[:,1]))\n",
    "#V = np.concatenate((V[:,0],V[:,1],V[:,2],c))\n",
    "\n",
    "#print(V2[:,0])\n",
    "V3 = np.reshape(V2,(len(V2),5))\n",
    "V4 = np.random.shuffle(V2)\n",
    "#print(int(0.8*len(V3)))\n",
    "\n",
    "#print(V3)\n",
    "print(V4)\n",
    "#print(len(V[:,0]), len(V[:,1]), len(V[:,2]),len(c))"
   ]
  },
  {
   "cell_type": "code",
   "execution_count": 8,
   "metadata": {},
   "outputs": [
    {
     "name": "stdout",
     "output_type": "stream",
     "text": [
      "Epoch 1/20\n",
      "8000/8000 [==============================] - 1s 111us/step - loss: 0.7266 - acc: 0.4867 - mean_absolute_error: 0.4994\n",
      "Epoch 2/20\n",
      "8000/8000 [==============================] - 0s 34us/step - loss: 0.6986 - acc: 0.5206 - mean_absolute_error: 0.4995\n",
      "Epoch 3/20\n",
      "8000/8000 [==============================] - 0s 35us/step - loss: 0.6961 - acc: 0.5071 - mean_absolute_error: 0.4996\n",
      "Epoch 4/20\n",
      "8000/8000 [==============================] - 0s 33us/step - loss: 0.6943 - acc: 0.5304 - mean_absolute_error: 0.4994\n",
      "Epoch 5/20\n",
      "8000/8000 [==============================] - 0s 33us/step - loss: 0.6941 - acc: 0.5145 - mean_absolute_error: 0.4994\n",
      "Epoch 6/20\n",
      "8000/8000 [==============================] - 0s 38us/step - loss: 0.6940 - acc: 0.5209 - mean_absolute_error: 0.4994\n",
      "Epoch 7/20\n",
      "8000/8000 [==============================] - 0s 34us/step - loss: 0.6938 - acc: 0.5150 - mean_absolute_error: 0.4993\n",
      "Epoch 8/20\n",
      "8000/8000 [==============================] - 0s 41us/step - loss: 0.6935 - acc: 0.5119 - mean_absolute_error: 0.4993\n",
      "Epoch 9/20\n",
      "8000/8000 [==============================] - 0s 46us/step - loss: 0.6935 - acc: 0.5222 - mean_absolute_error: 0.4994\n",
      "Epoch 10/20\n",
      "8000/8000 [==============================] - 0s 37us/step - loss: 0.6932 - acc: 0.5151 - mean_absolute_error: 0.4992\n",
      "Epoch 11/20\n",
      "8000/8000 [==============================] - 0s 50us/step - loss: 0.6934 - acc: 0.5085 - mean_absolute_error: 0.4994\n",
      "Epoch 12/20\n",
      "8000/8000 [==============================] - 0s 36us/step - loss: 0.6933 - acc: 0.5160 - mean_absolute_error: 0.4994\n",
      "Epoch 13/20\n",
      "8000/8000 [==============================] - 0s 36us/step - loss: 0.6932 - acc: 0.5184 - mean_absolute_error: 0.4993\n",
      "Epoch 14/20\n",
      "8000/8000 [==============================] - 0s 39us/step - loss: 0.6929 - acc: 0.5130 - mean_absolute_error: 0.4992\n",
      "Epoch 15/20\n",
      "8000/8000 [==============================] - 0s 43us/step - loss: 0.6932 - acc: 0.5191 - mean_absolute_error: 0.4993\n",
      "Epoch 16/20\n",
      "8000/8000 [==============================] - 0s 35us/step - loss: 0.6932 - acc: 0.5116 - mean_absolute_error: 0.4994\n",
      "Epoch 17/20\n",
      "8000/8000 [==============================] - 0s 40us/step - loss: 0.6930 - acc: 0.5212 - mean_absolute_error: 0.4993\n",
      "Epoch 18/20\n",
      "8000/8000 [==============================] - 0s 46us/step - loss: 0.6930 - acc: 0.4959 - mean_absolute_error: 0.4992\n",
      "Epoch 19/20\n",
      "8000/8000 [==============================] - 0s 40us/step - loss: 0.6927 - acc: 0.5176 - mean_absolute_error: 0.4992\n",
      "Epoch 20/20\n",
      "8000/8000 [==============================] - 0s 38us/step - loss: 0.6929 - acc: 0.5169 - mean_absolute_error: 0.4993\n"
     ]
    },
    {
     "data": {
      "text/plain": [
       "<keras.callbacks.History at 0x7fb56a8c4cf8>"
      ]
     },
     "execution_count": 8,
     "metadata": {},
     "output_type": "execute_result"
    }
   ],
   "source": [
    "# los datos que me sirven son lo que están en Gaussian_random !\n",
    "#ahora supongamos un plano que corta la gausiana a una altura Zo\n",
    "# aca empieza el ML\n",
    "\n",
    "model = Sequential()\n",
    "\n",
    "model.add(Dense(10, input_dim= 3, activation='relu' ))\n",
    "model.add(BatchNormalization()) #preserva la informacion de la estadistica de la capa anterior\n",
    "model.add(Dense(2, input_dim=10,\n",
    "               activation='softmax'))\n",
    "\n",
    "# Compila la red\n",
    "model.compile(optimizer='sgd', loss='categorical_crossentropy', metrics=['accuracy','mae'])\n",
    "\n",
    "# Ajusta la red\n",
    "model.fit(X_train_1D, Y_train_1D, batch_size=100, epochs=20)\n",
    "\n",
    "\n"
   ]
  },
  {
   "cell_type": "code",
   "execution_count": 9,
   "metadata": {},
   "outputs": [
    {
     "name": "stdout",
     "output_type": "stream",
     "text": [
      "[[ 0.48647016  0.51352984]\n",
      " [ 0.52612513  0.47387487]\n",
      " [ 0.52178723  0.47821283]\n",
      " ..., \n",
      " [ 0.53563517  0.46436477]\n",
      " [ 0.52073556  0.4792645 ]\n",
      " [ 0.47151121  0.52848876]]\n"
     ]
    }
   ],
   "source": [
    "#score = model.evaluate(X_test_1D,Y_test)\n",
    "predict = model.predict(X_test_1D)\n",
    "print(predict)\n",
    "#print(score)\n"
   ]
  },
  {
   "cell_type": "code",
   "execution_count": 10,
   "metadata": {},
   "outputs": [
    {
     "name": "stdout",
     "output_type": "stream",
     "text": [
      "_________________________________________________________________\n",
      "Layer (type)                 Output Shape              Param #   \n",
      "=================================================================\n",
      "dense_1 (Dense)              (None, 10)                40        \n",
      "_________________________________________________________________\n",
      "batch_normalization_1 (Batch (None, 10)                40        \n",
      "_________________________________________________________________\n",
      "dense_2 (Dense)              (None, 2)                 22        \n",
      "=================================================================\n",
      "Total params: 102\n",
      "Trainable params: 82\n",
      "Non-trainable params: 20\n",
      "_________________________________________________________________\n"
     ]
    }
   ],
   "source": [
    "# Muestra el diseno del modelo\n",
    "model.summary()"
   ]
  },
  {
   "cell_type": "code",
   "execution_count": 11,
   "metadata": {},
   "outputs": [
    {
     "name": "stdout",
     "output_type": "stream",
     "text": [
      "0.4975\n"
     ]
    }
   ],
   "source": [
    "kk2 = accuracy_score(np.argmax(Y_test_1D, axis=1),np.argmax(predict,axis=1))\n",
    "print(kk2)"
   ]
  }
 ],
 "metadata": {
  "kernelspec": {
   "display_name": "Python 3",
   "language": "python",
   "name": "python3"
  },
  "language_info": {
   "codemirror_mode": {
    "name": "ipython",
    "version": 3
   },
   "file_extension": ".py",
   "mimetype": "text/x-python",
   "name": "python",
   "nbconvert_exporter": "python",
   "pygments_lexer": "ipython3",
   "version": "3.6.7"
  }
 },
 "nbformat": 4,
 "nbformat_minor": 2
}
