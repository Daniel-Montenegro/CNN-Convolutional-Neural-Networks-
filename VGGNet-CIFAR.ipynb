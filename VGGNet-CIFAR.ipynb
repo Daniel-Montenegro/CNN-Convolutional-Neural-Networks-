{
 "cells": [
  {
   "cell_type": "code",
   "execution_count": 1,
   "metadata": {
    "scrolled": true
   },
   "outputs": [
    {
     "name": "stderr",
     "output_type": "stream",
     "text": [
      "Using MXNet backend\n"
     ]
    }
   ],
   "source": [
    "import numpy as np\n",
    "import matplotlib.pyplot as plt\n",
    "import sys\n",
    "\n",
    "from keras.models import Sequential\n",
    "from keras.layers import Dense, Activation, Flatten, Dropout, BatchNormalization\n",
    "from keras.layers import Convolution2D as conv2D\n",
    "from keras.layers import AveragePooling2D, MaxPooling2D \n",
    "\n",
    "from keras import metrics\n",
    "from keras import backend as K\n",
    "\n",
    "%matplotlib inline"
   ]
  },
  {
   "cell_type": "markdown",
   "metadata": {},
   "source": [
    "## En este escrito se ha diseñado la arquitectura de VGG16 y se ha usado el dataset de CIFAR10"
   ]
  },
  {
   "cell_type": "code",
   "execution_count": 2,
   "metadata": {},
   "outputs": [
    {
     "name": "stdout",
     "output_type": "stream",
     "text": [
      "channels_last\n"
     ]
    }
   ],
   "source": [
    "print(K.image_data_format())"
   ]
  },
  {
   "cell_type": "code",
   "execution_count": 3,
   "metadata": {
    "collapsed": true
   },
   "outputs": [],
   "source": [
    "# FORMATOS \n",
    "\n",
    "if K.image_data_format() == 'channels_first':\n",
    "    data_format = 'channels_first' #Para MXNET\n",
    "    #input_shape = (3,224,224)\n",
    "    input_shape = (3,32,32)\n",
    "else:\n",
    "    data_format = 'channels_last' #Para TensorFlow\n",
    "    #input_shape = (224,224,3)\n",
    "    input_shape = (32,32,3)\n"
   ]
  },
  {
   "cell_type": "code",
   "execution_count": 4,
   "metadata": {
    "collapsed": true
   },
   "outputs": [],
   "source": [
    "#ARQUITECTURA RED \n",
    "#SECUENCIAL DENTRO DE UNA FUNCION\n",
    "\"\"\"\n",
    "Los parametros de las capas conv2d y Maxpool y las fully-connected son tomadas del siguiente articulo \n",
    "https://arxiv.org/pdf/1409.1556v6.pdf. Articulo original.\n",
    "\"\"\"\n",
    "\n",
    "\n",
    "def VGG16():\n",
    "    \n",
    "    padding = 'same'\n",
    "    activ1 = 'relu'\n",
    "        \n",
    "    model = Sequential()\n",
    "    \n",
    "    # 1-BLOQUE\n",
    "    # Layer1\n",
    "    model.add(conv2D(filters = 64,\n",
    "                    kernel_size=(3,3),\n",
    "                    strides = (1,1),\n",
    "                    padding = padding,\n",
    "                    data_format = data_format,\n",
    "                    activation = activ1,\n",
    "                    name = 'l1Conv2D'))\n",
    "    model.add(BatchNormalization(axis=1))\n",
    "    # Layer2\n",
    "    model.add(conv2D(filters = 64,\n",
    "                    kernel_size=(3,3),\n",
    "                    strides = (1,1),\n",
    "                    padding = padding,\n",
    "                    data_format = data_format,\n",
    "                    activation = activ1,\n",
    "                    name = 'l2Conv2D'))\n",
    "    model.add(BatchNormalization(axis=1))\n",
    "    # Layer3\n",
    "    model.add(MaxPooling2D(pool_size=(2, 2),\n",
    "                           strides = 2,\n",
    "                           padding= padding,\n",
    "                           data_format=data_format,\n",
    "                           name = 'l3Maxpool2D'))\n",
    "    \n",
    "    # 2-BLOQUE\n",
    "    # Layer4\n",
    "    model.add(conv2D(filters = 128,\n",
    "                    kernel_size=(3,3),\n",
    "                    strides = (1,1),\n",
    "                    padding = padding,\n",
    "                    data_format = data_format,\n",
    "                    activation = activ1,\n",
    "                    name = 'l4Conv2D'))\n",
    "    model.add(BatchNormalization(axis=1))\n",
    "    \n",
    "    # Layer5\n",
    "    model.add(conv2D(filters = 128,\n",
    "                    kernel_size=(3,3),\n",
    "                    strides = (1,1),\n",
    "                    padding = padding,\n",
    "                    data_format = data_format,\n",
    "                    activation = activ1,\n",
    "                    name = 'l5Conv2D'))\n",
    "    model.add(BatchNormalization(axis=1))\n",
    "    \n",
    "    # Layer6\n",
    "    model.add(MaxPooling2D(pool_size=(2, 2),\n",
    "                           strides = 2,\n",
    "                           padding= padding,\n",
    "                           data_format=data_format,\n",
    "                           name = 'l6Maxpool2D'))\n",
    "    \n",
    "    # 3-BLOQUE\n",
    "    # Layer7\n",
    "    model.add(conv2D(filters = 256,\n",
    "                    kernel_size=(3,3),\n",
    "                    strides = (1,1),\n",
    "                    padding = padding,\n",
    "                    data_format = data_format,\n",
    "                    activation = activ1,\n",
    "                    name = 'l7Conv2D'))\n",
    "    model.add(BatchNormalization(axis=1))\n",
    "    \n",
    "    # Layer8\n",
    "    model.add(conv2D(filters = 256,\n",
    "                    kernel_size=(3,3),\n",
    "                    strides = (1,1),\n",
    "                    padding = padding,\n",
    "                    data_format = data_format,\n",
    "                    activation = activ1,\n",
    "                    name = 'l8Conv2D'))\n",
    "    model.add(BatchNormalization(axis=1))\n",
    "    \n",
    "    # Layer9\n",
    "    model.add(conv2D(filters = 256,\n",
    "                    kernel_size=(3,3),\n",
    "                    strides = (1,1),\n",
    "                    padding = padding,\n",
    "                    data_format = data_format,\n",
    "                    activation = activ1,\n",
    "                    name = 'l9Conv2D'))\n",
    "    model.add(BatchNormalization(axis=1))\n",
    "    \n",
    "    # Layer10\n",
    "    model.add(MaxPooling2D(pool_size=(2, 2),\n",
    "                           strides = 2,\n",
    "                           padding= padding,\n",
    "                           data_format=data_format,\n",
    "                           name = 'l10Maxpool2D'))\n",
    "    \n",
    "    # 4-BLOQUE\n",
    "    # Layer11\n",
    "    model.add(conv2D(filters = 512,\n",
    "                    kernel_size=(3,3),\n",
    "                    strides = (1,1),\n",
    "                    padding = padding,\n",
    "                    data_format = data_format,\n",
    "                    activation = activ1,\n",
    "                    name = 'l11Conv2D'))\n",
    "    model.add(BatchNormalization(axis=1))\n",
    "    \n",
    "    # Layer12\n",
    "    model.add(conv2D(filters = 512,\n",
    "                    kernel_size=(3,3),\n",
    "                    strides = (1,1),\n",
    "                    padding = padding,\n",
    "                    data_format = data_format,\n",
    "                    activation = activ1,\n",
    "                    name = 'l12Conv2D'))\n",
    "    model.add(BatchNormalization(axis=1))\n",
    "    \n",
    "    # Layer13\n",
    "    model.add(conv2D(filters = 512,\n",
    "                    kernel_size=(3,3),\n",
    "                    strides = (1,1),\n",
    "                    padding = padding,\n",
    "                    data_format = data_format,\n",
    "                    activation = activ1,\n",
    "                    name = 'l13Conv2D'))\n",
    "    model.add(BatchNormalization(axis=1))\n",
    "    \n",
    "    # Layer14\n",
    "    model.add(MaxPooling2D(pool_size=(2, 2),\n",
    "                           strides = 2,\n",
    "                           padding= padding,\n",
    "                           data_format=data_format,\n",
    "                           name = 'l14Maxpool2D'))\n",
    "    \n",
    "    # 5-BLOQUE\n",
    "    # Layer15\n",
    "    model.add(conv2D(filters = 512,\n",
    "                    kernel_size=(3,3),\n",
    "                    strides = (1,1),\n",
    "                    padding = padding,\n",
    "                    data_format = data_format,\n",
    "                    activation = activ1,\n",
    "                    name = 'l15Conv2D'))\n",
    "    model.add(BatchNormalization(axis=1))\n",
    "    \n",
    "    # Layer16\n",
    "    model.add(conv2D(filters = 512,\n",
    "                    kernel_size=(3,3),\n",
    "                    strides = (1,1),\n",
    "                    padding = padding,\n",
    "                    data_format = data_format,\n",
    "                    activation = activ1,\n",
    "                    name = 'l16Conv2D'))\n",
    "    model.add(BatchNormalization(axis=1))\n",
    "    \n",
    "    # Layer17\n",
    "    model.add(conv2D(filters = 512,\n",
    "                    kernel_size=(3,3),\n",
    "                    strides = (1,1),\n",
    "                    padding = padding,\n",
    "                    data_format = data_format,\n",
    "                    activation = activ1,\n",
    "                    name = 'l17Conv2D'))\n",
    "    model.add(BatchNormalization(axis=1))\n",
    "    \n",
    "    # Layer18\n",
    "    model.add(MaxPooling2D(pool_size=(2, 2),\n",
    "                           strides = 2,\n",
    "                           padding= padding,\n",
    "                           data_format=data_format,\n",
    "                           name = 'l18Maxpool2D'))\n",
    "    \n",
    "    model.add(Flatten())\n",
    "    model.add(Dense(units = 4096, activation = activ1))\n",
    "    model.add(Dropout(0.5))\n",
    "    model.add(Dense(units = 4096, activation = activ1))\n",
    "    model.add(Dropout(0.5))\n",
    "    model.add(Dense(units = 1000, activation = 'softmax'))\n",
    "    \n",
    "    \n",
    "    return model    \n"
   ]
  },
  {
   "cell_type": "code",
   "execution_count": 5,
   "metadata": {
    "collapsed": true
   },
   "outputs": [],
   "source": [
    "# Cargar el modelo (la red neuronal)\n",
    "model = VGG16()"
   ]
  },
  {
   "cell_type": "code",
   "execution_count": 6,
   "metadata": {
    "collapsed": true
   },
   "outputs": [],
   "source": [
    "from keras.datasets import cifar10"
   ]
  },
  {
   "cell_type": "code",
   "execution_count": 7,
   "metadata": {
    "collapsed": true
   },
   "outputs": [],
   "source": [
    "# Cargar los datos para el entrenamiento y el test\n",
    "\n",
    "(x_train, y_train), (x_test, y_test) = cifar10.load_data()"
   ]
  },
  {
   "cell_type": "code",
   "execution_count": 12,
   "metadata": {},
   "outputs": [
    {
     "data": {
      "text/plain": [
       "'\\nimport cv2\\n\\nimport time\\n\\n#imag_filas, imag_columnas, channel = 224, 224, 3\\nimag_filas, imag_columnas, channel = 32, 32, 3\\n\\n#data_rescalado = []\\n\\n\\n\\ndef resize_data(data):\\n    data_rescalado = np.zeros((data.shape[0], imag_filas, imag_columnas, channel))\\n    #data_rescalado = np.zeros((imag_filas, imag_columnas, channel))\\n    for j in range(channel):\\n        for i, img in enumerate(data):\\n            large_img = cv2.resize(img, dsize=(imag_filas, imag_columnas), interpolation=cv2.INTER_CUBIC)\\n            data_rescalado[i,:,:,j] = large_img\\n\\n    return data_rescalado\\n    #return large_img\\n\\nstar_time = time.time()    \\nx_train_resized = resize_data(x_train2)  \\nx_test_resized = resize_data(x_test2)  \\n#y_train_resized = resize_data(y_train2)  \\n#y_train_resized = y_train2  \\n#y_test_resized = resize_data(y_test2)  \\n#y_test_resized = y_test2  \\nend_time = time.time()\\nprint(\"tiempo de computo %f [s]\"%(end_time-star_time))\\n\\n'"
      ]
     },
     "execution_count": 12,
     "metadata": {},
     "output_type": "execute_result"
    }
   ],
   "source": [
    "#Esta linea es usada para redimensionar las imagenes\n",
    "\n",
    "\"\"\"\n",
    "import cv2\n",
    "\n",
    "import time\n",
    "\n",
    "#imag_filas, imag_columnas, channel = 224, 224, 3\n",
    "imag_filas, imag_columnas, channel = 32, 32, 3\n",
    "\n",
    "#data_rescalado = []\n",
    "\n",
    "\n",
    "\n",
    "def resize_data(data):\n",
    "    data_rescalado = np.zeros((data.shape[0], imag_filas, imag_columnas, channel))\n",
    "    #data_rescalado = np.zeros((imag_filas, imag_columnas, channel))\n",
    "    for j in range(channel):\n",
    "        for i, img in enumerate(data):\n",
    "            large_img = cv2.resize(img, dsize=(imag_filas, imag_columnas), interpolation=cv2.INTER_CUBIC)\n",
    "            data_rescalado[i,:,:,j] = large_img\n",
    "\n",
    "    return data_rescalado\n",
    "    #return large_img\n",
    "\n",
    "star_time = time.time()    \n",
    "x_train_resized = resize_data(x_train2)  \n",
    "x_test_resized = resize_data(x_test2)  \n",
    "#y_train_resized = resize_data(y_train2)  \n",
    "#y_train_resized = y_train2  \n",
    "#y_test_resized = resize_data(y_test2)  \n",
    "#y_test_resized = y_test2  \n",
    "end_time = time.time()\n",
    "print(\"tiempo de computo %f [s]\"%(end_time-star_time))\n",
    "\n",
    "\"\"\"\n"
   ]
  },
  {
   "cell_type": "code",
   "execution_count": 17,
   "metadata": {
    "collapsed": true
   },
   "outputs": [],
   "source": [
    "from keras.utils.np_utils import to_categorical\n",
    "\n",
    "#Convierte el y_train y y_test en numeros binarios para la comparacion\n",
    "\n",
    "y_train = to_categorical(y_train, num_classes = 1000)\n",
    "y_test = to_categorical(y_test, num_classes = 1000)"
   ]
  },
  {
   "cell_type": "code",
   "execution_count": 21,
   "metadata": {},
   "outputs": [
    {
     "data": {
      "image/png": "[encoded data removed]",
      "text/plain": [
       "<Figure size 1440x144 with 10 Axes>"
      ]
     },
     "metadata": {
      "needs_background": "light"
     },
     "output_type": "display_data"
    }
   ],
   "source": [
    "#visualizacion de los digitos\n",
    "#from matplotlib.pyplot import cmap\n",
    "\n",
    "\n",
    "n = 10\n",
    "plt.figure(figsize=(20, 2))\n",
    "#for i in range(1,n+1):\n",
    "for i in range(1,n+1):\n",
    "    ax = plt.subplot(1, n, i)\n",
    "    #Para channels_last\n",
    "    plt.imshow(x_test[i,:,:,1].reshape(32, 32), cmap='gray')\n",
    "    #Para channels_first\n",
    "    #plt.imshow(x_test[i,1,:,:].reshape(32, 32), cmap='gray')\n",
    "    #arr=np.array([x_test[i,0,:,:],x_test[i,1,:,:],x_test[i,2,:,:]])\n",
    "    #print(arr.shape)\n",
    "    #plt.imshow(arr)\n",
    "    #plt.()\n",
    "    ax.get_xaxis().set_visible(False)\n",
    "    ax.get_yaxis().set_visible(False)\n",
    "#plt.show()"
   ]
  },
  {
   "cell_type": "code",
   "execution_count": 25,
   "metadata": {
    "collapsed": true
   },
   "outputs": [],
   "source": [
    "#compilar las neuronas \n",
    "from keras.losses import categorical_crossentropy\n",
    "from keras.optimizers import adam\n",
    "\n",
    "# Cuando se esta corriendo el GPU\n",
    "# Como se tienen dos GPUS se agrega la siguiente linea\n",
    "gpu_list = [\"gpu(0)\", \"gpu(1)\"] \n",
    "\n",
    "#adam = adam(lr=0.0001)\n",
    "\n",
    "#model.compile(optimizer= 'adadelta', loss = 'binary_crossentropy', metrics=['accuracy','mae'])\n",
    "#model.compile(optimizer= 'adadelta', loss = 'categorical_crossentropy', metrics=['accuracy','mae'])\n",
    "model.compile(optimizer= 'adadelta', loss = 'categorical_crossentropy', metrics=['accuracy','mae'], context=gpu_list)"
   ]
  },
  {
   "cell_type": "code",
   "execution_count": 26,
   "metadata": {
    "scrolled": false
   },
   "outputs": [
    {
     "name": "stderr",
     "output_type": "stream",
     "text": [
      "/usr/local/lib/python3.5/dist-packages/keras/backend/mxnet_backend.py:96: UserWarning: MXNet Backend performs best with `channels_first` format. Using `channels_last` will significantly reduce performance due to the Transpose operations. For performance improvement, please use this API`keras.utils.to_channels_first(x_input)`to transform `channels_last` data to `channels_first` format and also please change the `image_data_format` in `keras.json` to `channels_first`.Note: `x_input` is a Numpy tensor or a list of Numpy tensorRefer to: https://github.com/awslabs/keras-apache-mxnet/tree/master/docs/mxnet_backend/performance_guide.md\n",
      "  train_symbol = func(*args, **kwargs)\n",
      "/usr/local/lib/python3.5/dist-packages/keras/backend/mxnet_backend.py:99: UserWarning: MXNet Backend performs best with `channels_first` format. Using `channels_last` will significantly reduce performance due to the Transpose operations. For performance improvement, please use this API`keras.utils.to_channels_first(x_input)`to transform `channels_last` data to `channels_first` format and also please change the `image_data_format` in `keras.json` to `channels_first`.Note: `x_input` is a Numpy tensor or a list of Numpy tensorRefer to: https://github.com/awslabs/keras-apache-mxnet/tree/master/docs/mxnet_backend/performance_guide.md\n",
      "  test_symbol = func(*args, **kwargs)\n"
     ]
    },
    {
     "name": "stdout",
     "output_type": "stream",
     "text": [
      "Train on 50000 samples, validate on 10000 samples\n",
      "Epoch 1/10\n"
     ]
    },
    {
     "name": "stderr",
     "output_type": "stream",
     "text": [
      "/usr/local/lib/python3.5/dist-packages/mxnet/module/bucketing_module.py:408: UserWarning: Optimizer created manually outside Module but rescale_grad is not normalized to 1.0/batch_size/num_workers (1.0 vs. 0.002). Is this intended?\n",
      "  force_init=force_init)\n"
     ]
    },
    {
     "name": "stdout",
     "output_type": "stream",
     "text": [
      "50000/50000 [==============================] - 97s 2ms/step - loss: 2.8582 - acc: 0.1003 - mean_absolute_error: 0.0018 - val_loss: 2.4195 - val_acc: 0.1539 - val_mean_absolute_error: 0.0018\n",
      "Epoch 2/10\n",
      "50000/50000 [==============================] - 91s 2ms/step - loss: 2.1441 - acc: 0.1770 - mean_absolute_error: 0.0017 - val_loss: 2.4367 - val_acc: 0.1376 - val_mean_absolute_error: 0.0017\n",
      "Epoch 3/10\n",
      "50000/50000 [==============================] - 91s 2ms/step - loss: 1.8952 - acc: 0.2549 - mean_absolute_error: 0.0016 - val_loss: 2.1750 - val_acc: 0.2550 - val_mean_absolute_error: 0.0016\n",
      "Epoch 4/10\n",
      "50000/50000 [==============================] - 91s 2ms/step - loss: 1.7042 - acc: 0.3413 - mean_absolute_error: 0.0015 - val_loss: 1.4187 - val_acc: 0.4571 - val_mean_absolute_error: 0.0013\n",
      "Epoch 5/10\n",
      "50000/50000 [==============================] - 91s 2ms/step - loss: 1.4549 - acc: 0.4609 - mean_absolute_error: 0.0013 - val_loss: 1.3672 - val_acc: 0.5086 - val_mean_absolute_error: 0.0011\n",
      "Epoch 6/10\n",
      "50000/50000 [==============================] - 91s 2ms/step - loss: 1.1805 - acc: 0.5743 - mean_absolute_error: 0.0011 - val_loss: 1.1726 - val_acc: 0.5900 - val_mean_absolute_error: 0.0011\n",
      "Epoch 7/10\n",
      "50000/50000 [==============================] - 92s 2ms/step - loss: 0.9830 - acc: 0.6510 - mean_absolute_error: 9.0283e-04 - val_loss: 1.7740 - val_acc: 0.4771 - val_mean_absolute_error: 0.0011\n",
      "Epoch 8/10\n",
      "50000/50000 [==============================] - 91s 2ms/step - loss: 0.8476 - acc: 0.7037 - mean_absolute_error: 7.8345e-04 - val_loss: 0.9882 - val_acc: 0.6553 - val_mean_absolute_error: 8.2598e-04\n",
      "Epoch 9/10\n",
      "50000/50000 [==============================] - 91s 2ms/step - loss: 0.6882 - acc: 0.7585 - mean_absolute_error: 6.4707e-04 - val_loss: 1.0327 - val_acc: 0.6646 - val_mean_absolute_error: 7.6763e-04\n",
      "Epoch 10/10\n",
      "50000/50000 [==============================] - 91s 2ms/step - loss: 0.5846 - acc: 0.7995 - mean_absolute_error: 5.4929e-04 - val_loss: 0.7973 - val_acc: 0.7397 - val_mean_absolute_error: 6.3932e-04\n",
      "tiempo de computo 918.931563 [s]\n"
     ]
    }
   ],
   "source": [
    "import time \n",
    "\n",
    "time_star2 = time.time()\n",
    "\n",
    "history = model.fit(x=x_train, y=y_train, \n",
    "                    batch_size =500 ,\n",
    "                    epochs=10,\n",
    "                    validation_data=(x_test, y_test), \n",
    "                    shuffle=True, verbose = 1)\n",
    "\n",
    "time_end2 = time.time()\n",
    "print(\"tiempo de computo %f [s]\"%(time_end2-time_star2))"
   ]
  },
  {
   "cell_type": "code",
   "execution_count": null,
   "metadata": {
    "collapsed": true
   },
   "outputs": [],
   "source": []
  },
  {
   "cell_type": "code",
   "execution_count": 29,
   "metadata": {},
   "outputs": [
    {
     "name": "stdout",
     "output_type": "stream",
     "text": [
      "10000/10000 [==============================] - 6s 570us/step\n"
     ]
    }
   ],
   "source": [
    "score = model.evaluate(x_test, y_test, batch_size=500)\n",
    "#score = model.evaluate(x_test, y_test)"
   ]
  },
  {
   "cell_type": "code",
   "execution_count": 30,
   "metadata": {},
   "outputs": [
    {
     "name": "stdout",
     "output_type": "stream",
     "text": [
      "[0.7973026901483535, 0.7397000014781951, 0.0006393216433934867]\n"
     ]
    }
   ],
   "source": [
    "print(score)"
   ]
  },
  {
   "cell_type": "code",
   "execution_count": 31,
   "metadata": {
    "collapsed": true
   },
   "outputs": [],
   "source": [
    "model.save_weights(\"model_VGG16_CIFAR10_adadelta.h5\")"
   ]
  },
  {
   "cell_type": "code",
   "execution_count": 32,
   "metadata": {},
   "outputs": [
    {
     "data": {
      "text/plain": [
       "'\\nplt.figure(0)  \\nplt.plot(history.history[\\'acc\\'],\\'r\\')  \\nplt.plot(history.history[\\'val_acc\\'],\\'g\\')  \\nplt.xticks(np.arange(0, 11, 2.0)) \\nplt.grid(True)\\nplt.rcParams[\\'figure.figsize\\'] = (8, 6)  \\nplt.xlabel(\"Num of Epochs\")  \\nplt.ylabel(\"Accuracy\")  \\nplt.title(\"Training Accuracy vs Validation Accuracy\")  \\nplt.legend([\\'train\\',\\'validation\\'])\\n\\n\\nplt.figure(1)  \\nplt.plot(history.history[\\'loss\\'],\\'r\\')  \\nplt.plot(history.history[\\'val_loss\\'],\\'g\\')  \\nplt.xticks(np.arange(0, 11, 2.0))  \\nplt.grid(True)\\nplt.rcParams[\\'figure.figsize\\'] = (8, 6)  \\nplt.xlabel(\"Num of Epochs\")  \\nplt.ylabel(\"Loss\")  \\nplt.title(\"Training Loss vs Validation Loss\")  \\nplt.legend([\\'train\\',\\'validation\\'])\\n'"
      ]
     },
     "execution_count": 32,
     "metadata": {},
     "output_type": "execute_result"
    },
    {
     "data": {
      "image/png": "[encoded data removed]",
      "text/plain": [
       "<Figure size 720x864 with 2 Axes>"
      ]
     },
     "metadata": {
      "needs_background": "light"
     },
     "output_type": "display_data"
    }
   ],
   "source": [
    "#Graficas de los valores entrenamiento \n",
    "\n",
    "\n",
    "fig, (ax0, ax1) = plt.subplots(ncols=2, figsize=(10, 12))\n",
    "\n",
    "ax0.plot(history.history['acc'],'r')  \n",
    "ax0.plot(history.history['val_acc'],'g')  \n",
    "ax0.set_xticks(np.arange(0, 11, 2.0))  \n",
    "ax0.grid(True)\n",
    "#ax0.set_rcParams['figure.figsize'] = (8, 6)  \n",
    "ax0.set_xlabel(\"Num of Epochs\")  \n",
    "ax0.set_ylabel(\"Accuracy\")  \n",
    "ax0.set_title(\"Training Accuracy vs Validation Accuracy\")  \n",
    "ax0.legend(['train','validation'])\n",
    "ax0.text(2, 0.5, r'Epoch=10, loss=categorical_cros..')\n",
    "ax0.text(2, 0.45, r'optimizer= adadelta')\n",
    "#plt.savefig('Training_validation_acc_E10_adadelta')\n",
    "\n",
    "\n",
    "#plt.figure(1)  \n",
    "ax1.plot(history.history['loss'],'r')  \n",
    "ax1.plot(history.history['val_loss'],'g')  \n",
    "ax1.set_xticks(np.arange(0, 11, 2.0))  \n",
    "ax1.grid(True)\n",
    "#ax1.rcParams['figure.figsize'] = (8, 6)  \n",
    "ax1.set_xlabel(\"Num of Epochs\")  \n",
    "ax1.set_ylabel(\"Loss\")  \n",
    "ax1.set_title(\"Training Loss vs Validation Loss\")  \n",
    "ax1.legend(['train','validation'])\n",
    "ax1.text(2, 2, r'Epoch=10, loss=categorical_cros..')\n",
    "ax1.text(2, 1.9, r'optimizer= adadelta ')\n",
    "\n",
    "plt.savefig('Training_validation_E10_adadelta_cifar.png')\n",
    "\n",
    "\n",
    "\n",
    "\"\"\"\n",
    "plt.figure(0)  \n",
    "plt.plot(history.history['acc'],'r')  \n",
    "plt.plot(history.history['val_acc'],'g')  \n",
    "plt.xticks(np.arange(0, 11, 2.0)) \n",
    "plt.grid(True)\n",
    "plt.rcParams['figure.figsize'] = (8, 6)  \n",
    "plt.xlabel(\"Num of Epochs\")  \n",
    "plt.ylabel(\"Accuracy\")  \n",
    "plt.title(\"Training Accuracy vs Validation Accuracy\")  \n",
    "plt.legend(['train','validation'])\n",
    "\n",
    "\n",
    "plt.figure(1)  \n",
    "plt.plot(history.history['loss'],'r')  \n",
    "plt.plot(history.history['val_loss'],'g')  \n",
    "plt.xticks(np.arange(0, 11, 2.0))  \n",
    "plt.grid(True)\n",
    "plt.rcParams['figure.figsize'] = (8, 6)  \n",
    "plt.xlabel(\"Num of Epochs\")  \n",
    "plt.ylabel(\"Loss\")  \n",
    "plt.title(\"Training Loss vs Validation Loss\")  \n",
    "plt.legend(['train','validation'])\n",
    "\"\"\"\n"
   ]
  }
 ],
 "metadata": {
  "kernelspec": {
   "display_name": "Python 3",
   "language": "python",
   "name": "python3"
  },
  "language_info": {
   "codemirror_mode": {
    "name": "ipython",
    "version": 3
   },
   "file_extension": ".py",
   "mimetype": "text/x-python",
   "name": "python",
   "nbconvert_exporter": "python",
   "pygments_lexer": "ipython3",
   "version": "3.6.7"
  }
 },
 "nbformat": 4,
 "nbformat_minor": 2
}
