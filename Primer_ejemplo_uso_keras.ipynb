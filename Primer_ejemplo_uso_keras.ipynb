{
 "cells": [
  {
   "cell_type": "markdown",
   "metadata": {},
   "source": [
    "### En este archivo se realiza el primer ejemplo para entender cómo funcionan las CNN usando KERAS"
   ]
  },
  {
   "cell_type": "code",
   "execution_count": 1,
   "metadata": {},
   "outputs": [
    {
     "name": "stderr",
     "output_type": "stream",
     "text": [
      "Using TensorFlow backend.\n"
     ]
    }
   ],
   "source": [
    "#importar librerias \n",
    "from keras.models import Sequential\n",
    "from keras.layers import Dense, Activation\n",
    "import numpy as np\n",
    "import matplotlib.pyplot as plt\n",
    "\n",
    "%matplotlib inline"
   ]
  },
  {
   "cell_type": "code",
   "execution_count": 2,
   "metadata": {
    "collapsed": true
   },
   "outputs": [],
   "source": [
    "#Generación de datos\n",
    "\n",
    "y=[]\n",
    "x = np.linspace(0,1,200)\n",
    "\n",
    "for i in range(len(x)):\n",
    "    y.append(4*x[i] + np.random.rand()*3)\n"
   ]
  },
  {
   "cell_type": "code",
   "execution_count": 53,
   "metadata": {},
   "outputs": [
    {
     "name": "stdout",
     "output_type": "stream",
     "text": [
      "Epoch 1/10\n",
      "200/200 [==============================] - 0s 2ms/step - loss: 2.0074 - mean_squared_error: 2.0074\n",
      "Epoch 2/10\n",
      "200/200 [==============================] - 0s 856us/step - loss: 0.8925 - mean_squared_error: 0.8925\n",
      "Epoch 3/10\n",
      "200/200 [==============================] - 0s 839us/step - loss: 0.8447 - mean_squared_error: 0.8447\n",
      "Epoch 4/10\n",
      "200/200 [==============================] - 0s 847us/step - loss: 0.8056 - mean_squared_error: 0.8056\n",
      "Epoch 5/10\n",
      "200/200 [==============================] - 0s 844us/step - loss: 0.7747 - mean_squared_error: 0.7747\n",
      "Epoch 6/10\n",
      "200/200 [==============================] - 0s 772us/step - loss: 0.7795 - mean_squared_error: 0.7795\n",
      "Epoch 7/10\n",
      "200/200 [==============================] - 0s 721us/step - loss: 0.7684 - mean_squared_error: 0.7684\n",
      "Epoch 8/10\n",
      "200/200 [==============================] - 0s 733us/step - loss: 0.7634 - mean_squared_error: 0.7634\n",
      "Epoch 9/10\n",
      "200/200 [==============================] - 0s 733us/step - loss: 0.7647 - mean_squared_error: 0.7647\n",
      "Epoch 10/10\n",
      "200/200 [==============================] - 0s 728us/step - loss: 0.7650 - mean_squared_error: 0.7650\n"
     ]
    }
   ],
   "source": [
    "#comienza la generacion de las redes\n",
    "\n",
    "# Se define el modelo\n",
    "model =  Sequential()\n",
    "\n",
    "# Se agregan las capas\n",
    "\n",
    "#Se agrega una capa densa con activacion lineal\n",
    "model.add(Dense(1, input_dim=1, activation='linear'))\n",
    "\n",
    "# Se compila la red\n",
    "model.compile(optimizer='sgd', loss='mse', metrics=['mse'])\n",
    "\n",
    "# Se entrena la red\n",
    "model.fit(x,y, batch_size=1, epochs=10);\n",
    "\n",
    "\n",
    "#prediccion\n",
    "\n",
    "predic = model.predict(x)"
   ]
  },
  {
   "cell_type": "code",
   "execution_count": 54,
   "metadata": {},
   "outputs": [
    {
     "data": {
      "text/plain": [
       "[<matplotlib.lines.Line2D at 0x7fb7b28707f0>]"
      ]
     },
     "execution_count": 54,
     "metadata": {},
     "output_type": "execute_result"
    },
    {
     "data": {
      "image/png": "[encoded data removed]",
      "text/plain": [
       "<matplotlib.figure.Figure at 0x7fb7b2870630>"
      ]
     },
     "metadata": {},
     "output_type": "display_data"
    }
   ],
   "source": [
    "#graficos de comparacion\n",
    "\n",
    "plt.plot(x,y, '.k')\n",
    "plt.plot(x, predic, '-r')"
   ]
  },
  {
   "cell_type": "code",
   "execution_count": 35,
   "metadata": {},
   "outputs": [
    {
     "data": {
      "image/png": "[encoded data removed]",
      "text/plain": [
       "<IPython.core.display.Image object>"
      ]
     },
     "execution_count": 35,
     "metadata": {
      "image/png": {
       "width": 120
      }
     },
     "output_type": "execute_result"
    }
   ],
   "source": [
    "#visualizacion de la red\n",
    "from keras.utils import plot_model\n",
    "from IPython.display import Image\n",
    "\n",
    "plot_model(model, to_file='model.png')\n",
    "\n",
    "\n",
    "Image(filename='./model.png', width=120)"
   ]
  },
  {
   "cell_type": "code",
   "execution_count": null,
   "metadata": {
    "collapsed": true
   },
   "outputs": [],
   "source": []
  },
  {
   "cell_type": "code",
   "execution_count": null,
   "metadata": {
    "collapsed": true
   },
   "outputs": [],
   "source": []
  }
 ],
 "metadata": {
  "kernelspec": {
   "display_name": "Python 3",
   "language": "python",
   "name": "python3"
  },
  "language_info": {
   "codemirror_mode": {
    "name": "ipython",
    "version": 3
   },
   "file_extension": ".py",
   "mimetype": "text/x-python",
   "name": "python",
   "nbconvert_exporter": "python",
   "pygments_lexer": "ipython3",
   "version": "3.6.7"
  }
 },
 "nbformat": 4,
 "nbformat_minor": 2
}
