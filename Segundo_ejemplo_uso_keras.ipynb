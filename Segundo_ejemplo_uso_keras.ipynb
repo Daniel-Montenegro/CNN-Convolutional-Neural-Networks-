{
 "cells": [
  {
   "cell_type": "code",
   "execution_count": 1,
   "metadata": {},
   "outputs": [
    {
     "name": "stderr",
     "output_type": "stream",
     "text": [
      "Using TensorFlow backend.\n"
     ]
    }
   ],
   "source": [
    "#importar librerias \n",
    "import numpy as np\n",
    "import matplotlib.pyplot as plt\n",
    "from keras.models import Sequential\n",
    "from keras.layers import Dense, Activation, BatchNormalization \n",
    "from keras import regularizers, utils\n",
    "\n",
    "\n",
    "%matplotlib inline"
   ]
  },
  {
   "cell_type": "code",
   "execution_count": 2,
   "metadata": {},
   "outputs": [
    {
     "data": {
      "text/plain": [
       "'\\n#funcion seno \\nx = np.linspace(-2,2,100)\\nfor i in range(len(x)):\\n    y.append((np.sin(i)))\\n'"
      ]
     },
     "execution_count": 2,
     "metadata": {},
     "output_type": "execute_result"
    }
   ],
   "source": [
    "#Generacion de datos\n",
    "\n",
    "x = np.linspace(-1,1,100)\n",
    "y=[]\n",
    "\n",
    "#Polinomio\n",
    "\n",
    "for i in range(len(x)):\n",
    "    y.append((x[i]**3)*np.random.random()+np.random.random()*0.1)\n",
    "\n",
    "\n",
    "\"\"\"\n",
    "#funcion seno \n",
    "x = np.linspace(-2,2,100)\n",
    "for i in range(len(x)):\n",
    "    y.append((np.sin(i)))\n",
    "\"\"\"\n"
   ]
  },
  {
   "cell_type": "code",
   "execution_count": 3,
   "metadata": {
    "scrolled": true
   },
   "outputs": [
    {
     "data": {
      "text/plain": [
       "[<matplotlib.lines.Line2D at 0x7f578ddb7828>]"
      ]
     },
     "execution_count": 3,
     "metadata": {},
     "output_type": "execute_result"
    },
    {
     "data": {
      "image/png": "[encoded data removed]",
      "text/plain": [
       "<matplotlib.figure.Figure at 0x7f5791126630>"
      ]
     },
     "metadata": {},
     "output_type": "display_data"
    }
   ],
   "source": [
    "#Figura del data set\n",
    "\n",
    "plt.plot(x,y,'.k')"
   ]
  },
  {
   "cell_type": "code",
   "execution_count": 7,
   "metadata": {
    "scrolled": true
   },
   "outputs": [
    {
     "name": "stdout",
     "output_type": "stream",
     "text": [
      "Epoch 1/50\n",
      "100/100 [==============================] - 1s 6ms/step - loss: 0.1849 - mean_squared_error: 0.1849\n",
      "Epoch 2/50\n",
      "100/100 [==============================] - 0s 633us/step - loss: 0.0593 - mean_squared_error: 0.0593\n",
      "Epoch 3/50\n",
      "100/100 [==============================] - 0s 540us/step - loss: 0.0523 - mean_squared_error: 0.0523\n",
      "Epoch 4/50\n",
      "100/100 [==============================] - 0s 644us/step - loss: 0.0529 - mean_squared_error: 0.0529\n",
      "Epoch 5/50\n",
      "100/100 [==============================] - 0s 609us/step - loss: 0.0521 - mean_squared_error: 0.0521\n",
      "Epoch 6/50\n",
      "100/100 [==============================] - 0s 538us/step - loss: 0.0520 - mean_squared_error: 0.0520\n",
      "Epoch 7/50\n",
      "100/100 [==============================] - 0s 645us/step - loss: 0.0523 - mean_squared_error: 0.0523\n",
      "Epoch 8/50\n",
      "100/100 [==============================] - 0s 663us/step - loss: 0.0520 - mean_squared_error: 0.0520\n",
      "Epoch 9/50\n",
      "100/100 [==============================] - 0s 690us/step - loss: 0.0520 - mean_squared_error: 0.0520\n",
      "Epoch 10/50\n",
      "100/100 [==============================] - 0s 654us/step - loss: 0.0520 - mean_squared_error: 0.0520\n",
      "Epoch 11/50\n",
      "100/100 [==============================] - 0s 644us/step - loss: 0.0520 - mean_squared_error: 0.0520\n",
      "Epoch 12/50\n",
      "100/100 [==============================] - 0s 593us/step - loss: 0.0520 - mean_squared_error: 0.0520\n",
      "Epoch 13/50\n",
      "100/100 [==============================] - 0s 757us/step - loss: 0.0520 - mean_squared_error: 0.0520\n",
      "Epoch 14/50\n",
      "100/100 [==============================] - 0s 744us/step - loss: 0.0520 - mean_squared_error: 0.0520\n",
      "Epoch 15/50\n",
      "100/100 [==============================] - 0s 647us/step - loss: 0.0520 - mean_squared_error: 0.0520\n",
      "Epoch 16/50\n",
      "100/100 [==============================] - 0s 797us/step - loss: 0.0520 - mean_squared_error: 0.0520\n",
      "Epoch 17/50\n",
      "100/100 [==============================] - 0s 755us/step - loss: 0.0520 - mean_squared_error: 0.0520\n",
      "Epoch 18/50\n",
      "100/100 [==============================] - 0s 621us/step - loss: 0.0520 - mean_squared_error: 0.0520\n",
      "Epoch 19/50\n",
      "100/100 [==============================] - 0s 657us/step - loss: 0.0520 - mean_squared_error: 0.0520\n",
      "Epoch 20/50\n",
      "100/100 [==============================] - 0s 595us/step - loss: 0.0520 - mean_squared_error: 0.0520\n",
      "Epoch 21/50\n",
      "100/100 [==============================] - 0s 737us/step - loss: 0.0520 - mean_squared_error: 0.0520\n",
      "Epoch 22/50\n",
      "100/100 [==============================] - 0s 1ms/step - loss: 0.0520 - mean_squared_error: 0.0520\n",
      "Epoch 23/50\n",
      "100/100 [==============================] - 0s 829us/step - loss: 0.0520 - mean_squared_error: 0.0520\n",
      "Epoch 24/50\n",
      "100/100 [==============================] - 0s 781us/step - loss: 0.0520 - mean_squared_error: 0.0520\n",
      "Epoch 25/50\n",
      "100/100 [==============================] - 0s 598us/step - loss: 0.0520 - mean_squared_error: 0.0520\n",
      "Epoch 26/50\n",
      "100/100 [==============================] - 0s 748us/step - loss: 0.0520 - mean_squared_error: 0.0520\n",
      "Epoch 27/50\n",
      "100/100 [==============================] - 0s 764us/step - loss: 0.0520 - mean_squared_error: 0.0520\n",
      "Epoch 28/50\n",
      "100/100 [==============================] - 0s 684us/step - loss: 0.0520 - mean_squared_error: 0.0520\n",
      "Epoch 29/50\n",
      "100/100 [==============================] - 0s 709us/step - loss: 0.0520 - mean_squared_error: 0.0520\n",
      "Epoch 30/50\n",
      "100/100 [==============================] - 0s 734us/step - loss: 0.0520 - mean_squared_error: 0.0520\n",
      "Epoch 31/50\n",
      "100/100 [==============================] - 0s 783us/step - loss: 0.0520 - mean_squared_error: 0.0520\n",
      "Epoch 32/50\n",
      "100/100 [==============================] - 0s 688us/step - loss: 0.0520 - mean_squared_error: 0.0520\n",
      "Epoch 33/50\n",
      "100/100 [==============================] - 0s 645us/step - loss: 0.0520 - mean_squared_error: 0.0520\n",
      "Epoch 34/50\n",
      "100/100 [==============================] - 0s 522us/step - loss: 0.0520 - mean_squared_error: 0.0520\n",
      "Epoch 35/50\n",
      "100/100 [==============================] - 0s 635us/step - loss: 0.0520 - mean_squared_error: 0.0520\n",
      "Epoch 36/50\n",
      "100/100 [==============================] - 0s 897us/step - loss: 0.0520 - mean_squared_error: 0.0520\n",
      "Epoch 37/50\n",
      "100/100 [==============================] - 0s 1ms/step - loss: 0.0520 - mean_squared_error: 0.0520\n",
      "Epoch 38/50\n",
      "100/100 [==============================] - 0s 1ms/step - loss: 0.0520 - mean_squared_error: 0.0520\n",
      "Epoch 39/50\n",
      "100/100 [==============================] - 0s 1ms/step - loss: 0.0520 - mean_squared_error: 0.0520\n",
      "Epoch 40/50\n",
      "100/100 [==============================] - 0s 637us/step - loss: 0.0520 - mean_squared_error: 0.0520\n",
      "Epoch 41/50\n",
      "100/100 [==============================] - 0s 961us/step - loss: 0.0520 - mean_squared_error: 0.0520\n",
      "Epoch 42/50\n",
      "100/100 [==============================] - 0s 675us/step - loss: 0.0520 - mean_squared_error: 0.0520\n",
      "Epoch 43/50\n",
      "100/100 [==============================] - 0s 797us/step - loss: 0.0520 - mean_squared_error: 0.0520\n",
      "Epoch 44/50\n",
      "100/100 [==============================] - 0s 758us/step - loss: 0.0520 - mean_squared_error: 0.0520\n",
      "Epoch 45/50\n",
      "100/100 [==============================] - 0s 796us/step - loss: 0.0520 - mean_squared_error: 0.0520\n",
      "Epoch 46/50\n",
      "100/100 [==============================] - 0s 762us/step - loss: 0.0520 - mean_squared_error: 0.0520\n",
      "Epoch 47/50\n",
      "100/100 [==============================] - 0s 692us/step - loss: 0.0520 - mean_squared_error: 0.0520\n",
      "Epoch 48/50\n",
      "100/100 [==============================] - 0s 725us/step - loss: 0.0520 - mean_squared_error: 0.0520\n",
      "Epoch 49/50\n",
      "100/100 [==============================] - 0s 912us/step - loss: 0.0520 - mean_squared_error: 0.0520\n",
      "Epoch 50/50\n",
      "100/100 [==============================] - 0s 1ms/step - loss: 0.0520 - mean_squared_error: 0.0520\n"
     ]
    }
   ],
   "source": [
    "#Ajuste usando KERAS\n",
    "\n",
    "model = Sequential()\n",
    "\n",
    "#Se diseña una red la cual va estar compactada, por eso se usa Sequential(), la red se va a llamar \"model\"\n",
    "\n",
    "\n",
    "\n",
    "model.add(Dense(4, input_dim=1))\n",
    "model.add(BatchNormalization())\n",
    "model.add(Dense(1, input_dim=4, activation='relu' \n",
    "                #kernel_initializer='random_uniform',\n",
    "                #kernel_regularizer=regularizers.l1(0.01)\n",
    "                #activity_regularizer=regularizers.l1(0.01)\n",
    "               ))\n",
    "\n",
    "\n",
    "#model.add(Dense(1, input_dim=64))\n",
    "\n",
    "#Se crea 3 capas, con .add() se agraga una capa. La Dense() habla sobre el numero de hilos de cada capa.\n",
    "#Como el data set solo tiene una dimension se debe especificar eso y por tanto se usna input_dim =1.\n",
    "#Además el primer parametro de Dense() indica la dimencion del output\n",
    "\n",
    "\"\"\"\n",
    "NOTA: el mejor ajuste se obtiene de solo poner activacion en la segunda red.\n",
    "\"\"\"\n",
    "\n",
    "#model.add(Dense(1, input_shape=(16,), activation='relu'))\n",
    "\n",
    "\n",
    "model.compile(optimizer='sgd', loss='mse', metrics=['mse'])\n",
    "\n",
    "#compile es el reponsable de correr la red e indicar la forma de los pesos y la activacion. Con este se\n",
    "#da cavida a crear la funcion de entrenamiento. \n",
    "\n",
    "\n",
    "model.fit(x,y, batch_size=5, epochs=50);\n",
    "#Funcion que realiza en entrenamiento a los datos x y y. batch_size: numero de muestras por cada actualizacion de \n",
    "#los gradientes. epochs: indica cuantas veces va hacer el entrenamiento.\n",
    "\n",
    "predic = model.predict(x)\n",
    "#muestra las predicciones del modelo con respecto al data set.\n"
   ]
  },
  {
   "cell_type": "code",
   "execution_count": 8,
   "metadata": {},
   "outputs": [
    {
     "data": {
      "text/plain": [
       "[<matplotlib.lines.Line2D at 0x7f578c0ad278>]"
      ]
     },
     "execution_count": 8,
     "metadata": {},
     "output_type": "execute_result"
    },
    {
     "data": {
      "image/png": "[encoded data removed]",
      "text/plain": [
       "<matplotlib.figure.Figure at 0x7f578c0ad240>"
      ]
     },
     "metadata": {},
     "output_type": "display_data"
    }
   ],
   "source": [
    "#comparar los dos resultados\n",
    "\n",
    "plt.plot(x,y,'.k')\n",
    "plt.plot(x,predic, '-m')"
   ]
  },
  {
   "cell_type": "code",
   "execution_count": null,
   "metadata": {
    "collapsed": true
   },
   "outputs": [],
   "source": [
    "#visualizacion de la red\n",
    "from keras.utils import plot_model\n",
    "from IPython.display import Image\n",
    "\n",
    "plot_model(model, to_file='model_ex2.png')\n",
    "\n",
    "\n",
    "Image(filename='./model_ex2.png', width=200)"
   ]
  }
 ],
 "metadata": {
  "kernelspec": {
   "display_name": "Python 3",
   "language": "python",
   "name": "python3"
  },
  "language_info": {
   "codemirror_mode": {
    "name": "ipython",
    "version": 3
   },
   "file_extension": ".py",
   "mimetype": "text/x-python",
   "name": "python",
   "nbconvert_exporter": "python",
   "pygments_lexer": "ipython3",
   "version": "3.6.7"
  }
 },
 "nbformat": 4,
 "nbformat_minor": 2
}
