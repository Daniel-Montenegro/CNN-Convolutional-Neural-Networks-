{
 "cells": [
  {
   "cell_type": "code",
   "execution_count": 1,
   "metadata": {
    "scrolled": true
   },
   "outputs": [
    {
     "name": "stderr",
     "output_type": "stream",
     "text": [
      "Using MXNet backend\n"
     ]
    }
   ],
   "source": [
    "import numpy as np\n",
    "import matplotlib.pyplot as plt\n",
    "\n",
    "from keras.models import Sequential\n",
    "from keras.layers import Dense, Activation, Flatten, Dropout, BatchNormalization\n",
    "from keras.layers import Convolution2D as conv2D\n",
    "from keras.layers import AveragePooling2D, MaxPooling2D, ZeroPadding2D\n",
    "\n",
    "from keras import metrics\n",
    "from keras import backend as K\n",
    "\n",
    "%matplotlib inline"
   ]
  },
  {
   "cell_type": "code",
   "execution_count": 2,
   "metadata": {
    "collapsed": true
   },
   "outputs": [],
   "source": [
    "# FORMATOS \n",
    "\n",
    "if K.image_data_format() == 'channels_first':\n",
    "    data_format = 'channels_first' #Para MXNET\n",
    "    input_shape = (1,28,28)\n",
    "    #input_shape = (3,32,32)\n",
    "else:\n",
    "    data_format = 'channels_last' #Para TensorFlow\n",
    "    input_shape = (28,28,1)\n"
   ]
  },
  {
   "cell_type": "code",
   "execution_count": 3,
   "metadata": {},
   "outputs": [
    {
     "name": "stdout",
     "output_type": "stream",
     "text": [
      "channels_first\n"
     ]
    }
   ],
   "source": [
    "print(K.image_data_format())"
   ]
  },
  {
   "cell_type": "code",
   "execution_count": 4,
   "metadata": {
    "collapsed": true
   },
   "outputs": [],
   "source": [
    "#ARQUITECTURA RED \n",
    "#SECUENCIAL DENTRO DE UNA FUNCION\n",
    "\"\"\"\n",
    "Los parametros de las capas conv2d y Maxpool y las fully-connected son tomadas del siguiente articulo \n",
    "https://arxiv.org/pdf/1409.1556v6.pdf. Articulo original.\n",
    "\"\"\"\n",
    "\n",
    "\n",
    "def VGG16():\n",
    "    \n",
    "    padding = 'same'\n",
    "    activ1 = 'relu'\n",
    "        \n",
    "    model = Sequential()\n",
    "    \n",
    "    # 1-BLOQUE\n",
    "    # Layer1\n",
    "    model.add(conv2D(filters = 64,\n",
    "                    kernel_size=(3,3),\n",
    "                    strides = (1,1),\n",
    "                    padding = padding,\n",
    "                    data_format = data_format,\n",
    "                    activation = activ1,\n",
    "                    name = 'l1Conv2D',\n",
    "                    input_shape = input_shape))\n",
    "    model.add(BatchNormalization(axis=1))\n",
    "    # Layer2\n",
    "    \n",
    "    model.add(conv2D(filters = 64,\n",
    "                    kernel_size=(3,3),\n",
    "                    strides = (1,1),\n",
    "                    padding = padding,\n",
    "                    data_format = data_format,\n",
    "                    activation = activ1,\n",
    "                    name = 'l2Conv2D'))\n",
    "    model.add(BatchNormalization(axis=1))\n",
    "    \n",
    "    # Layer3\n",
    "    model.add(MaxPooling2D(pool_size=(2, 2),\n",
    "                           strides = 2,\n",
    "                           padding= padding,\n",
    "                           data_format=data_format,\n",
    "                           name = 'l3Maxpool2D'))\n",
    "    \n",
    "    # 2-BLOQUE\n",
    "    # Layer4\n",
    "    \n",
    "    model.add(conv2D(filters = 128,\n",
    "                    kernel_size=(3,3),\n",
    "                    strides = (1,1),\n",
    "                    padding = padding,\n",
    "                    data_format = data_format,\n",
    "                    activation = activ1,\n",
    "                    name = 'l4Conv2D'))\n",
    "    model.add(BatchNormalization(axis=1))\n",
    "    # Layer5\n",
    "    \n",
    "    model.add(conv2D(filters = 128,\n",
    "                    kernel_size=(3,3),\n",
    "                    strides = (1,1),\n",
    "                    padding = padding,\n",
    "                    data_format = data_format,\n",
    "                    activation = activ1,\n",
    "                    name = 'l5Conv2D'))\n",
    "    model.add(BatchNormalization(axis=1))\n",
    "    \n",
    "    # Layer6\n",
    "    model.add(MaxPooling2D(pool_size=(2, 2),\n",
    "                           strides = 2,\n",
    "                           padding= padding,\n",
    "                           data_format=data_format,\n",
    "                           name = 'l6Maxpool2D'))\n",
    "    \n",
    "    # 3-BLOQUE\n",
    "    # Layer7\n",
    "    \n",
    "    model.add(conv2D(filters = 256,\n",
    "                    kernel_size=(3,3),\n",
    "                    strides = (1,1),\n",
    "                    padding = padding,\n",
    "                    data_format = data_format,\n",
    "                    activation = activ1,\n",
    "                    name = 'l7Conv2D'))\n",
    "    model.add(BatchNormalization(axis=1))\n",
    "    \n",
    "    # Layer8\n",
    "    model.add(conv2D(filters = 256,\n",
    "                    kernel_size=(3,3),\n",
    "                    strides = (1,1),\n",
    "                    padding = padding,\n",
    "                    data_format = data_format,\n",
    "                    activation = activ1,\n",
    "                    name = 'l8Conv2D'))\n",
    "    model.add(BatchNormalization(axis=1))\n",
    "    # Layer9\n",
    "    \n",
    "    model.add(conv2D(filters = 256,\n",
    "                    kernel_size=(3,3),\n",
    "                    strides = (1,1),\n",
    "                    padding = padding,\n",
    "                    data_format = data_format,\n",
    "                    activation = activ1,\n",
    "                    name = 'l9Conv2D'))\n",
    "    model.add(BatchNormalization(axis=1))\n",
    "    \n",
    "    # Layer10\n",
    "    model.add(MaxPooling2D(pool_size=(2, 2),\n",
    "                           strides = 2,\n",
    "                           padding= padding,\n",
    "                           data_format=data_format,\n",
    "                           name = 'l10Maxpool2D'))\n",
    "    \n",
    "    # 4-BLOQUE\n",
    "    # Layer11\n",
    "    \n",
    "    model.add(conv2D(filters = 512,\n",
    "                    kernel_size=(3,3),\n",
    "                    strides = (1,1),\n",
    "                    padding = padding,\n",
    "                    data_format = data_format,\n",
    "                    activation = activ1,\n",
    "                    name = 'l11Conv2D'))\n",
    "    model.add(BatchNormalization(axis=1))\n",
    "    \n",
    "    # Layer12\n",
    "    model.add(conv2D(filters = 512,\n",
    "                    kernel_size=(3,3),\n",
    "                    strides = (1,1),\n",
    "                    padding = padding,\n",
    "                    data_format = data_format,\n",
    "                    activation = activ1,\n",
    "                    name = 'l12Conv2D'))\n",
    "    model.add(BatchNormalization(axis=1))\n",
    "    # Layer13\n",
    "    \n",
    "    model.add(conv2D(filters = 512,\n",
    "                    kernel_size=(3,3),\n",
    "                    strides = (1,1),\n",
    "                    padding = padding,\n",
    "                    data_format = data_format,\n",
    "                    activation = activ1,\n",
    "                    name = 'l13Conv2D'))\n",
    "    model.add(BatchNormalization(axis=1))\n",
    "    # Layer14\n",
    "    model.add(MaxPooling2D(pool_size=(2, 2),\n",
    "                           strides = 2,\n",
    "                           padding= padding,\n",
    "                           data_format=data_format,\n",
    "                           name = 'l14Maxpool2D'))\n",
    "    \n",
    "    # 5-BLOQUE\n",
    "    # Layer15\n",
    "    \n",
    "    model.add(conv2D(filters = 512,\n",
    "                    kernel_size=(3,3),\n",
    "                    strides = (1,1),\n",
    "                    padding = padding,\n",
    "                    data_format = data_format,\n",
    "                    activation = activ1,\n",
    "                    name = 'l15Conv2D'))\n",
    "    model.add(BatchNormalization(axis=1))\n",
    "    # Layer16\n",
    "    \n",
    "    model.add(conv2D(filters = 512,\n",
    "                    kernel_size=(3,3),\n",
    "                    strides = (1,1),\n",
    "                    padding = padding,\n",
    "                    data_format = data_format,\n",
    "                    activation = activ1,\n",
    "                    name = 'l16Conv2D'))\n",
    "    model.add(BatchNormalization(axis=1))\n",
    "    # Layer17\n",
    "    \n",
    "    model.add(conv2D(filters = 512,\n",
    "                    kernel_size=(3,3),\n",
    "                    strides = (1,1),\n",
    "                    padding = padding,\n",
    "                    data_format = data_format,\n",
    "                    activation = activ1,\n",
    "                    name = 'l17Conv2D'))\n",
    "    model.add(BatchNormalization(axis=1))\n",
    "    # Layer18\n",
    "    model.add(MaxPooling2D(pool_size=(2, 2),\n",
    "                           strides = 2,\n",
    "                           padding= padding,\n",
    "                           data_format=data_format,\n",
    "                           name = 'l18Maxpool2D'))\n",
    "    \n",
    "    model.add(Flatten())\n",
    "    model.add(Dense(units = 4096, activation = activ1))\n",
    "    model.add(Dropout(0.5))\n",
    "    model.add(Dense(units = 4096, activation = activ1))\n",
    "    model.add(Dropout(0.5))\n",
    "    model.add(Dense(units = 10, activation = 'softmax'))\n",
    "    \n",
    "    \n",
    "    return model    \n"
   ]
  },
  {
   "cell_type": "code",
   "execution_count": 5,
   "metadata": {
    "collapsed": true
   },
   "outputs": [],
   "source": [
    "# Se carga el modelo (Red neuronal)\n",
    "model = VGG16()"
   ]
  },
  {
   "cell_type": "code",
   "execution_count": 6,
   "metadata": {
    "collapsed": true
   },
   "outputs": [],
   "source": [
    "from keras.datasets import mnist"
   ]
  },
  {
   "cell_type": "code",
   "execution_count": 7,
   "metadata": {
    "collapsed": true
   },
   "outputs": [],
   "source": [
    "# los datos para el entrenamiento y el test\n",
    "\n",
    "(x_train, y_train), (x_test, y_test) = mnist.load_data()"
   ]
  },
  {
   "cell_type": "code",
   "execution_count": 9,
   "metadata": {
    "collapsed": true,
    "scrolled": true
   },
   "outputs": [],
   "source": [
    "\"\"\"\n",
    "x_train2 = x_train[0:1000,:,:]\n",
    "x_test2 = x_test[0:1000,:,:]\n",
    "y_train2 = y_train[0:1000]\n",
    "y_test2 = y_test[0:1000]\n",
    "\"\"\"\n",
    "\n",
    "\n",
    "x_train2 = x_train\n",
    "x_test2 = x_test\n",
    "y_train2 = y_train\n",
    "y_test2 = y_test\n"
   ]
  },
  {
   "cell_type": "code",
   "execution_count": 14,
   "metadata": {
    "collapsed": true
   },
   "outputs": [],
   "source": [
    "#Esta linea es usada para redimensionar las imagenes\n",
    "\n",
    "\"\"\"\n",
    "import cv2\n",
    "\n",
    "import time\n",
    "\n",
    "#imag_filas, imag_columnas, channel = 224, 224, 3\n",
    "imag_filas, imag_columnas, channel = 28, 28, 3\n",
    "\n",
    "#data_rescalado = []\n",
    "\n",
    "\n",
    "\n",
    "def resize_data(data):\n",
    "    #data_rescalado = np.zeros((data.shape[0], imag_filas, imag_columnas, channel))\n",
    "    data_rescalado = np.zeros((data.shape[0], channel , imag_filas, imag_columnas))\n",
    "    #data_rescalado = np.zeros((imag_filas, imag_columnas, channel))\n",
    "    for j in range(channel):\n",
    "        for i, img in enumerate(data):\n",
    "            #print(img.shape)\n",
    "            large_img = cv2.resize(img, dsize=(imag_filas, imag_columnas), interpolation=cv2.INTER_CUBIC)\n",
    "            data_rescalado[i,j,:,:] = large_img\n",
    "\n",
    "    return data_rescalado\n",
    "    #return large_img\n",
    "\n",
    "star_time = time.time()    \n",
    "\n",
    "x_train_resized = resize_data(x_train2)  \n",
    "x_test_resized = resize_data(x_test2)  \n",
    "#y_train_resized = resize_data(y_train2)  \n",
    "#y_train_resized = y_train2  \n",
    "#y_test_resized = resize_data(y_test2)  \n",
    "#y_test_resized = y_test2  \n",
    "end_time = time.time()\n",
    "print(\"tiempo de computo %f [s]\"%(end_time-star_time))\n",
    "\"\"\"\n",
    "\n",
    "x_train_resized = x_train2\n",
    "x_test_resized = x_test2\n",
    "\n",
    "\n",
    "\n",
    "x_train_resized = x_train_resized/255.\n",
    "x_test_resized = x_test_resized/255.\n"
   ]
  },
  {
   "cell_type": "code",
   "execution_count": null,
   "metadata": {
    "collapsed": true
   },
   "outputs": [],
   "source": []
  },
  {
   "cell_type": "code",
   "execution_count": 15,
   "metadata": {
    "collapsed": true
   },
   "outputs": [],
   "source": [
    "#data_rescalado = np.zeros((x_train2.shape[0], imag_filas, imag_columnas, channel))\n",
    "#data_rescalado = np.zeros((x_train2.shape[0], imag_filas, imag_columnas))"
   ]
  },
  {
   "cell_type": "code",
   "execution_count": 17,
   "metadata": {
    "collapsed": true
   },
   "outputs": [],
   "source": [
    "# re-dimensionar mnist\n",
    "\n",
    "#dimension imagenes de entrada\n",
    "#img_filas, img_columnas, channel = 224, 224, 3\n",
    "img_filas, img_columnas, channel = 28, 28, 1\n",
    "\n",
    "if K.image_data_format() == 'channels_first':\n",
    "    X_train = x_train_resized.reshape(x_train_resized.shape[0], channel, img_filas, img_columnas)\n",
    "    X_test = x_test_resized.reshape(x_test_resized.shape[0], channel, img_filas, img_columnas)\n",
    "    #input_shape = (channel, img_filas, img_columnas)\n",
    "else:\n",
    "    X_train = x_train_resized.reshape(x_train_resized.shape[0], img_filas, img_columnas, channel)\n",
    "    X_test = x_test_resized.reshape(x_test_resized.shape[0], img_filas, img_columnas, channel)\n",
    "    #input_shape = (img_filas, img_columnas, channel)"
   ]
  },
  {
   "cell_type": "code",
   "execution_count": 18,
   "metadata": {
    "collapsed": true
   },
   "outputs": [],
   "source": [
    "from keras.utils.np_utils import to_categorical\n",
    "\n",
    "#Convierte el y_train y y_test en numeros binarios para la comparacion\n",
    "\n",
    "\n",
    "Y_train = to_categorical(y_train2, num_classes = 10)\n",
    "Y_test = to_categorical(y_test2, num_classes = 10)"
   ]
  },
  {
   "cell_type": "code",
   "execution_count": null,
   "metadata": {
    "collapsed": true
   },
   "outputs": [],
   "source": []
  },
  {
   "cell_type": "code",
   "execution_count": 21,
   "metadata": {
    "collapsed": true
   },
   "outputs": [],
   "source": [
    "#compilar las neuronas \n",
    "from keras.losses import categorical_crossentropy\n",
    "from keras.optimizers import adam\n",
    "\n",
    "# Cuando se esta corriendo el GPU\n",
    "# Como se tienen dos GPUS se agrega la siguiente linea\n",
    "gpu_list = [\"gpu(0)\", \"gpu(1)\"]\n",
    "adam = adam(lr=0.0001)\n",
    "\n",
    "\n",
    "#model.compile(optimizer= 'adadelta', loss = 'binary_crossentropy', metrics=['accuracy','mae'])\n",
    "#model.compile(optimizer= 'adadelta', loss = 'categorical_crossentropy', metrics=['accuracy','mae'])\n",
    "model.compile(optimizer= 'adadelta', loss = 'categorical_crossentropy', metrics=['accuracy','mae'], context=gpu_list)\n",
    "#model.compile(optimizer= 'adadelta', loss = 'categorical_crossentropy', metrics=['accuracy','mae'])"
   ]
  },
  {
   "cell_type": "code",
   "execution_count": 22,
   "metadata": {
    "scrolled": false
   },
   "outputs": [
    {
     "name": "stdout",
     "output_type": "stream",
     "text": [
      "Train on 60000 samples, validate on 10000 samples\n",
      "Epoch 1/5\n"
     ]
    },
    {
     "name": "stderr",
     "output_type": "stream",
     "text": [
      "/usr/local/lib/python3.5/dist-packages/mxnet/module/bucketing_module.py:408: UserWarning: Optimizer created manually outside Module but rescale_grad is not normalized to 1.0/batch_size/num_workers (1.0 vs. 0.002). Is this intended?\n",
      "  force_init=force_init)\n"
     ]
    },
    {
     "name": "stdout",
     "output_type": "stream",
     "text": [
      "60000/60000 [==============================] - 46s 768us/step - loss: 1.2995 - acc: 0.5683 - mean_absolute_error: 0.1015 - val_loss: 2.5467 - val_acc: 0.0974 - val_mean_absolute_error: 0.1802\n",
      "Epoch 2/5\n",
      "60000/60000 [==============================] - 34s 570us/step - loss: 0.2726 - acc: 0.9328 - mean_absolute_error: 0.0197 - val_loss: 3.5363 - val_acc: 0.0982 - val_mean_absolute_error: 0.1766\n",
      "Epoch 3/5\n",
      "60000/60000 [==============================] - 34s 571us/step - loss: 0.1724 - acc: 0.9587 - mean_absolute_error: 0.0119 - val_loss: 4.1333 - val_acc: 0.5332 - val_mean_absolute_error: 0.0943\n",
      "Epoch 4/5\n",
      "60000/60000 [==============================] - 34s 571us/step - loss: 0.0571 - acc: 0.9851 - mean_absolute_error: 0.0046 - val_loss: 0.0887 - val_acc: 0.9780 - val_mean_absolute_error: 0.0061\n",
      "Epoch 5/5\n",
      "60000/60000 [==============================] - 34s 572us/step - loss: 0.0592 - acc: 0.9859 - mean_absolute_error: 0.0041 - val_loss: 0.0820 - val_acc: 0.9810 - val_mean_absolute_error: 0.0044\n",
      "tiempo de computo 183.082637 [s]\n"
     ]
    }
   ],
   "source": [
    "import time\n",
    "\n",
    "time_star2 = time.time()\n",
    "\n",
    "#model.fit(x=X_train, y=Y_train, batch_size =500, epochs=10, shuffle=True)\n",
    "\n",
    "history = model.fit(x=X_train, \n",
    "                    y=Y_train, \n",
    "                    batch_size =500, \n",
    "                    epochs=5, \n",
    "                    validation_data=(X_test, Y_test), \n",
    "                    shuffle=True, verbose=1 )\n",
    "\n",
    "\n",
    "time_end2 = time.time()\n",
    "print(\"tiempo de computo %f [s]\"%(time_end2-time_star2))"
   ]
  },
  {
   "cell_type": "code",
   "execution_count": 23,
   "metadata": {},
   "outputs": [
    {
     "name": "stdout",
     "output_type": "stream",
     "text": [
      "10000/10000 [==============================] - 2s 161us/step\n"
     ]
    }
   ],
   "source": [
    "score = model.evaluate(X_test, Y_test, batch_size=500)"
   ]
  },
  {
   "cell_type": "code",
   "execution_count": 24,
   "metadata": {},
   "outputs": [
    {
     "name": "stdout",
     "output_type": "stream",
     "text": [
      "[0.0820176248671487, 0.9809999972581863, 0.00440892712213099]\n"
     ]
    }
   ],
   "source": [
    "print(score)"
   ]
  },
  {
   "cell_type": "code",
   "execution_count": 26,
   "metadata": {
    "collapsed": true
   },
   "outputs": [],
   "source": [
    "model.save(\"model_VGG16_mnist_adadelta_mxnet.h5\")"
   ]
  },
  {
   "cell_type": "code",
   "execution_count": 27,
   "metadata": {},
   "outputs": [
    {
     "data": {
      "text/plain": [
       "'\\nplt.figure(0)  \\nplt.plot(history.history[\\'acc\\'],\\'r\\')  \\nplt.plot(history.history[\\'val_acc\\'],\\'g\\')  \\nplt.xticks(np.arange(0, 11, 2.0))  \\nplt.rcParams[\\'figure.figsize\\'] = (8, 6)  \\nplt.xlabel(\"Num of Epochs\")  \\nplt.ylabel(\"Accuracy\")  \\nplt.title(\"Training Accuracy vs Validation Accuracy\")  \\nplt.legend([\\'train\\',\\'validation\\'])\\n\\n\\nplt.figure(1)  \\nplt.plot(history.history[\\'loss\\'],\\'r\\')  \\nplt.plot(history.history[\\'val_loss\\'],\\'g\\')  \\nplt.xticks(np.arange(0, 11, 2.0))  \\nplt.rcParams[\\'figure.figsize\\'] = (8, 6)  \\nplt.xlabel(\"Num of Epochs\")  \\nplt.ylabel(\"Loss\")  \\nplt.title(\"Training Loss vs Validation Loss\")  \\nplt.legend([\\'train\\',\\'validation\\'])\\n'"
      ]
     },
     "execution_count": 27,
     "metadata": {},
     "output_type": "execute_result"
    },
    {
     "data": {
      "image/png": "[encoded data removed]",
      "text/plain": [
       "<Figure size 720x864 with 2 Axes>"
      ]
     },
     "metadata": {
      "needs_background": "light"
     },
     "output_type": "display_data"
    }
   ],
   "source": [
    "#Graficas de los valores entrenamiento \n",
    "\n",
    "\n",
    "fig, (ax0, ax1) = plt.subplots(ncols=2, figsize=(10, 12))\n",
    "\n",
    "ax0.plot(history.history['acc'],'r')  \n",
    "ax0.plot(history.history['val_acc'],'g')  \n",
    "ax0.set_xticks(np.arange(0, 11, 2.0))  \n",
    "ax0.grid(True)\n",
    "#ax0.set_rcParams['figure.figsize'] = (8, 6)  \n",
    "ax0.set_xlabel(\"Num of Epochs\")  \n",
    "ax0.set_ylabel(\"Accuracy\")  \n",
    "ax0.set_title(\"Training Accuracy vs Validation Accuracy\")  \n",
    "ax0.legend(['train','validation'])\n",
    "ax0.text(2, 0.5, r'Epoch=10, loss=categorical_cros..')\n",
    "ax0.text(2, 0.45, r'optimizer= adadelta, channel_last')\n",
    "#plt.savefig('Training_validation_acc_E10_adadelta')\n",
    "\n",
    "\n",
    "#plt.figure(1)  \n",
    "ax1.plot(history.history['loss'],'r')  \n",
    "ax1.plot(history.history['val_loss'],'g')  \n",
    "ax1.set_xticks(np.arange(0, 11, 2.0))  \n",
    "ax1.grid(True)\n",
    "#ax1.rcParams['figure.figsize'] = (8, 6)  \n",
    "ax1.set_xlabel(\"Num of Epochs\")  \n",
    "ax1.set_ylabel(\"Loss\")  \n",
    "ax1.set_title(\"Training Loss vs Validation Loss\")  \n",
    "ax1.legend(['train','validation'])\n",
    "ax1.text(2, 2, r'Epoch=10, loss=categorical_cros..')\n",
    "ax1.text(2, 1.9, r'optimizer= adadelta, channel_last')\n",
    "\n",
    "plt.savefig('Training_validation_E10_adadelta_mxnet.png')\n",
    "\n",
    "\n",
    "\n",
    "\"\"\"\n",
    "plt.figure(0)  \n",
    "plt.plot(history.history['acc'],'r')  \n",
    "plt.plot(history.history['val_acc'],'g')  \n",
    "plt.xticks(np.arange(0, 11, 2.0))  \n",
    "plt.rcParams['figure.figsize'] = (8, 6)  \n",
    "plt.xlabel(\"Num of Epochs\")  \n",
    "plt.ylabel(\"Accuracy\")  \n",
    "plt.title(\"Training Accuracy vs Validation Accuracy\")  \n",
    "plt.legend(['train','validation'])\n",
    "\n",
    "\n",
    "plt.figure(1)  \n",
    "plt.plot(history.history['loss'],'r')  \n",
    "plt.plot(history.history['val_loss'],'g')  \n",
    "plt.xticks(np.arange(0, 11, 2.0))  \n",
    "plt.rcParams['figure.figsize'] = (8, 6)  \n",
    "plt.xlabel(\"Num of Epochs\")  \n",
    "plt.ylabel(\"Loss\")  \n",
    "plt.title(\"Training Loss vs Validation Loss\")  \n",
    "plt.legend(['train','validation'])\n",
    "\"\"\""
   ]
  },
  {
   "cell_type": "markdown",
   "metadata": {},
   "source": [
    "Para mxnet chanels_last, (10 epoch), batch_size = 500\n",
    "\n",
    "[3.145621380615234, 0.611, 0.0007847246416844428]\n",
    "\n",
    "\n",
    "epocas 10\n",
    "\n",
    "optimizer = adam \n",
    "\n",
    "[0.0642561407526955, 0.9838999956846237, 4.543997190467053e-05]\n",
    "\n",
    "\n",
    "epocas 10\n",
    "\n",
    "optimizer = adam \n",
    "\n",
    "[0.06471072004642338, 0.9819999903440475, 5.327082694748242e-05]\n",
    "\n",
    "epocas 10\n",
    "\n",
    "optimizer = adadelta\n",
    "\n",
    "\n",
    "[0.02706918649491854, 0.9918000072240829, 1.9937261066615973e-05]\n",
    "\n",
    "\n",
    "Notas !\n",
    "Con adadelta en el segundo paso del entrenamiento ya está en accu = 0.9 \n"
   ]
  }
 ],
 "metadata": {
  "kernelspec": {
   "display_name": "Python 3",
   "language": "python",
   "name": "python3"
  },
  "language_info": {
   "codemirror_mode": {
    "name": "ipython",
    "version": 3
   },
   "file_extension": ".py",
   "mimetype": "text/x-python",
   "name": "python",
   "nbconvert_exporter": "python",
   "pygments_lexer": "ipython3",
   "version": "3.6.7"
  }
 },
 "nbformat": 4,
 "nbformat_minor": 2
}
